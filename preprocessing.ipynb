{
 "cells": [
  {
   "cell_type": "markdown",
   "metadata": {},
   "source": [
    "# Imports"
   ]
  },
  {
   "cell_type": "code",
   "execution_count": 102,
   "metadata": {},
   "outputs": [],
   "source": [
    "import sys\n",
    "from os import walk\n",
    "from os.path import join\n",
    "\n",
    "import pandas as pd\n",
    "import numpy as np\n",
    "import matplotlib.pyplot as plt\n",
    "\n",
    "from sklearn.model_selection import train_test_split\n",
    "\n",
    "import nltk\n",
    "from nltk.stem import PorterStemmer\n",
    "from nltk.corpus import stopwords\n",
    "from nltk.tokenize import word_tokenize\n",
    "\n",
    "from bs4 import BeautifulSoup\n",
    "\n",
    "from wordcloud import WordCloud\n",
    "from PIL import Image"
   ]
  },
  {
   "cell_type": "markdown",
   "metadata": {},
   "source": [
    "# Constants"
   ]
  },
  {
   "cell_type": "code",
   "execution_count": 125,
   "metadata": {},
   "outputs": [],
   "source": [
    "example_file = \"SpamData/01_Processing/practice_email.txt\"\n",
    "\n",
    "spam_1_path = \"SpamData/01_Processing/spam_assassin_corpus/spam_1/\"\n",
    "spam_2_path = \"SpamData/01_Processing/spam_assassin_corpus/spam_2/\"\n",
    "easy_nonspam_1_path = \"SpamData/01_Processing/spam_assassin_corpus/easy_ham_1/\"\n",
    "easy_nonspam_2_path = \"SpamData/01_Processing/spam_assassin_corpus/easy_ham_2/\"\n",
    "\n",
    "spam_cat = 1\n",
    "ham_cat = 0\n",
    "vocab_size = 2500\n",
    "\n",
    "data_json_file = \"SpamData/01_Processing/email-text-data.json\"\n",
    "word_id_file = \"SpamData/02_Processing/word-id.csv\"\n",
    "\n",
    "train_data_file = \"SpamData/02_Training/train-data.txt\"\n",
    "test_data_file = \"SpamData/02_Training/test-data.txt\"\n",
    "\n",
    "thums_up_file = \"SpamData/01_Processing/wordcloud_resources/thumbs-up.png\"\n",
    "thums_down_file = \"SpamData/01_Processing/wordcloud_resources/thumbs-down.png\""
   ]
  },
  {
   "cell_type": "markdown",
   "metadata": {},
   "source": [
    "# Reading Files"
   ]
  },
  {
   "cell_type": "code",
   "execution_count": 8,
   "metadata": {},
   "outputs": [
    {
     "name": "stdout",
     "output_type": "stream",
     "text": [
      "From exmh-workers-admin@redhat.com  Thu Aug 22 12:36:23 2002\n",
      "Return-Path: <exmh-workers-admin@spamassassin.taint.org>\n",
      "Delivered-To: zzzz@localhost.netnoteinc.com\n",
      "Received: from localhost (localhost [127.0.0.1])\n",
      "\tby phobos.labs.netnoteinc.com (Postfix) with ESMTP id D03E543C36\n",
      "\tfor <zzzz@localhost>; Thu, 22 Aug 2002 07:36:16 -0400 (EDT)\n",
      "Received: from phobos [127.0.0.1]\n",
      "\tby localhost with IMAP (fetchmail-5.9.0)\n",
      "\tfor zzzz@localhost (single-drop); Thu, 22 Aug 2002 12:36:16 +0100 (IST)\n",
      "Received: from listman.spamassassin.taint.org (listman.spamassassin.taint.org [66.187.233.211]) by\n",
      "    dogma.slashnull.org (8.11.6/8.11.6) with ESMTP id g7MBYrZ04811 for\n",
      "    <zzzz-exmh@spamassassin.taint.org>; Thu, 22 Aug 2002 12:34:53 +0100\n",
      "Received: from listman.spamassassin.taint.org (localhost.localdomain [127.0.0.1]) by\n",
      "    listman.redhat.com (Postfix) with ESMTP id 8386540858; Thu, 22 Aug 2002\n",
      "    07:35:02 -0400 (EDT)\n",
      "Delivered-To: exmh-workers@listman.spamassassin.taint.org\n",
      "Received: from int-mx1.corp.spamassassin.taint.org (int-mx1.corp.spamassassin.taint.org\n",
      "    [172.16.52.254]) by listman.redhat.com (Postfix) with ESMTP id 10CF8406D7\n",
      "    for <exmh-workers@listman.redhat.com>; Thu, 22 Aug 2002 07:34:10 -0400\n",
      "    (EDT)\n",
      "Received: (from mail@localhost) by int-mx1.corp.spamassassin.taint.org (8.11.6/8.11.6)\n",
      "    id g7MBY7g11259 for exmh-workers@listman.redhat.com; Thu, 22 Aug 2002\n",
      "    07:34:07 -0400\n",
      "Received: from mx1.spamassassin.taint.org (mx1.spamassassin.taint.org [172.16.48.31]) by\n",
      "    int-mx1.corp.redhat.com (8.11.6/8.11.6) with SMTP id g7MBY7Y11255 for\n",
      "    <exmh-workers@redhat.com>; Thu, 22 Aug 2002 07:34:07 -0400\n",
      "Received: from ratree.psu.ac.th ([202.28.97.6]) by mx1.spamassassin.taint.org\n",
      "    (8.11.6/8.11.6) with SMTP id g7MBIhl25223 for <exmh-workers@redhat.com>;\n",
      "    Thu, 22 Aug 2002 07:18:55 -0400\n",
      "Received: from delta.cs.mu.OZ.AU (delta.coe.psu.ac.th [172.30.0.98]) by\n",
      "    ratree.psu.ac.th (8.11.6/8.11.6) with ESMTP id g7MBWel29762;\n",
      "    Thu, 22 Aug 2002 18:32:40 +0700 (ICT)\n",
      "Received: from munnari.OZ.AU (localhost [127.0.0.1]) by delta.cs.mu.OZ.AU\n",
      "    (8.11.6/8.11.6) with ESMTP id g7MBQPW13260; Thu, 22 Aug 2002 18:26:25\n",
      "    +0700 (ICT)\n",
      "From: Robert Elz <kre@munnari.OZ.AU>\n",
      "To: Chris Garrigues <cwg-dated-1030377287.06fa6d@DeepEddy.Com>\n",
      "Cc: exmh-workers@spamassassin.taint.org\n",
      "Subject: Re: New Sequences Window\n",
      "In-Reply-To: <1029945287.4797.TMDA@deepeddy.vircio.com>\n",
      "References: <1029945287.4797.TMDA@deepeddy.vircio.com>\n",
      "    <1029882468.3116.TMDA@deepeddy.vircio.com> <9627.1029933001@munnari.OZ.AU>\n",
      "    <1029943066.26919.TMDA@deepeddy.vircio.com>\n",
      "    <1029944441.398.TMDA@deepeddy.vircio.com>\n",
      "MIME-Version: 1.0\n",
      "Content-Type: text/plain; charset=us-ascii\n",
      "Message-Id: <13258.1030015585@munnari.OZ.AU>\n",
      "X-Loop: exmh-workers@spamassassin.taint.org\n",
      "Sender: exmh-workers-admin@spamassassin.taint.org\n",
      "Errors-To: exmh-workers-admin@spamassassin.taint.org\n",
      "X-Beenthere: exmh-workers@spamassassin.taint.org\n",
      "X-Mailman-Version: 2.0.1\n",
      "Precedence: bulk\n",
      "List-Help: <mailto:exmh-workers-request@spamassassin.taint.org?subject=help>\n",
      "List-Post: <mailto:exmh-workers@spamassassin.taint.org>\n",
      "List-Subscribe: <https://listman.spamassassin.taint.org/mailman/listinfo/exmh-workers>,\n",
      "    <mailto:exmh-workers-request@redhat.com?subject=subscribe>\n",
      "List-Id: Discussion list for EXMH developers <exmh-workers.spamassassin.taint.org>\n",
      "List-Unsubscribe: <https://listman.spamassassin.taint.org/mailman/listinfo/exmh-workers>,\n",
      "    <mailto:exmh-workers-request@redhat.com?subject=unsubscribe>\n",
      "List-Archive: <https://listman.spamassassin.taint.org/mailman/private/exmh-workers/>\n",
      "Date: Thu, 22 Aug 2002 18:26:25 +0700\n",
      "\n",
      "\n",
      "Dear Mr Still\n",
      "\n",
      "Good tidings to you and all your staff for the festive season ahead (Christmas).\n",
      "Now to the crux of the matter-in-hand: I am a fully qualified Santa Claus and am wondering whether you might consider me to run my own \"Santa's Grotto\" in your store.\n",
      "But WAIT! You're probably thinking: \"What makes him so special?\"\n",
      "Well, first of all, I have made several changes to the characterisation of Father Christmas. Rather than greeting the children with shouts of \"Ho, ho, ho!\" I prefer to whisper the phrase \"Dependence is not unfathomable in this cruel world we live in\". In addition, my gifts are ALL hand-made, ranging from felt hoops to vanilla-pod holders.\n",
      "You will note also, from the enclosed sketch, that I have radically redesigned Santa's outfit and have renamed my character \"Lord Buckles\". Would you be interested in employing me? I promise NEVER to let you down.\n",
      "I look forward to hearing from you.\n",
      "\n",
      "Best wishes\n",
      "Robin Cooper\n",
      "[Excerpt from the book: The Timewaster Letters by Robin Cooper]\n",
      "\n"
     ]
    }
   ],
   "source": [
    "stream = open(example_file, encoding='latin-1') #open the file\n",
    "message = stream.read() # read and store the contents\n",
    "stream.close() #close our stream\n",
    "\n",
    "print(message)"
   ]
  },
  {
   "cell_type": "markdown",
   "metadata": {},
   "source": [
    "**Encoding** is how the computer handles letters and text. After all, every character needs to be translated into ones and zeros."
   ]
  },
  {
   "cell_type": "code",
   "execution_count": 7,
   "metadata": {},
   "outputs": [
    {
     "data": {
      "text/plain": [
       "'utf-8'"
      ]
     },
     "execution_count": 7,
     "metadata": {},
     "output_type": "execute_result"
    }
   ],
   "source": [
    "sys.getfilesystemencoding() #defualt encoding type."
   ]
  },
  {
   "cell_type": "markdown",
   "metadata": {},
   "source": [
    "We need to just print out message body instead of the header and the message body."
   ]
  },
  {
   "cell_type": "code",
   "execution_count": 76,
   "metadata": {},
   "outputs": [
    {
     "name": "stdout",
     "output_type": "stream",
     "text": [
      "\n",
      "\n",
      "Dear Mr Still\n",
      "\n",
      "\n",
      "\n",
      "Good tidings to you and all your staff for the festive season ahead (Christmas).\n",
      "\n",
      "Now to the crux of the matter-in-hand: I am a fully qualified Santa Claus and am wondering whether you might consider me to run my own \"Santa's Grotto\" in your store.\n",
      "\n",
      "But WAIT! You're probably thinking: \"What makes him so special?\"\n",
      "\n",
      "Well, first of all, I have made several changes to the characterisation of Father Christmas. Rather than greeting the children with shouts of \"Ho, ho, ho!\" I prefer to whisper the phrase \"Dependence is not unfathomable in this cruel world we live in\". In addition, my gifts are ALL hand-made, ranging from felt hoops to vanilla-pod holders.\n",
      "\n",
      "You will note also, from the enclosed sketch, that I have radically redesigned Santa's outfit and have renamed my character \"Lord Buckles\". Would you be interested in employing me? I promise NEVER to let you down.\n",
      "\n",
      "I look forward to hearing from you.\n",
      "\n",
      "\n",
      "\n",
      "Best wishes\n",
      "\n",
      "Robin Cooper\n",
      "\n",
      "[Excerpt from the book: The Timewaster Letters by Robin Cooper]\n",
      "\n"
     ]
    }
   ],
   "source": [
    "# We will use empty space after message body as a decision point\n",
    "\n",
    "stream = open(example_file, encoding='latin-1') \n",
    "\n",
    "is_body = False\n",
    "lines = []\n",
    "\n",
    "for line in stream:\n",
    "    if is_body:\n",
    "        lines.append(line)\n",
    "    elif line == '\\n': #this chcek for empty spaces\n",
    "       is_body = True \n",
    "\n",
    "\n",
    "stream.close()\n",
    "\n",
    "email_body = '\\n'.join(lines) # Joining every element in list.\n",
    "print(email_body)"
   ]
  },
  {
   "cell_type": "markdown",
   "metadata": {},
   "source": [
    "## Generator Functions and Gathering Data\n",
    "\n",
    "Function for reading all the files in the folder"
   ]
  },
  {
   "cell_type": "code",
   "execution_count": 4,
   "metadata": {},
   "outputs": [],
   "source": [
    "def email_body_generator(path):\n",
    "    \"\"\"This function loops over particular file in our directory. Split out filenames and then email body. \"\"\"\n",
    "    for root, dirnames, filenames in walk(path):\n",
    "        for file_name in filenames:\n",
    "\n",
    "            filepath = join(root, file_name)\n",
    "\n",
    "            stream = open(filepath, encoding='latin-1') \n",
    "\n",
    "            is_body = False\n",
    "            lines = []\n",
    "\n",
    "            for line in stream:\n",
    "                if is_body:\n",
    "                    lines.append(line)\n",
    "                elif line == '\\n': #this chcek for empty spaces\n",
    "                    is_body = True \n",
    "\n",
    "            stream.close()\n",
    "            email_body = '\\n'.join(lines) # Joining every element in list.\n",
    "\n",
    "            yield file_name, email_body    "
   ]
  },
  {
   "cell_type": "code",
   "execution_count": 5,
   "metadata": {},
   "outputs": [],
   "source": [
    "def df_from_directory(path, classification):\n",
    "\n",
    "    rows = []\n",
    "    row_names = []\n",
    "\n",
    "    for file_name, email_body in email_body_generator(path):\n",
    "        rows.append({'MESSAGE': email_body, 'CATEGORY': classification})\n",
    "        row_names.append(file_name)\n",
    "        \n",
    "    return pd.DataFrame(rows, index=row_names)"
   ]
  },
  {
   "cell_type": "code",
   "execution_count": 6,
   "metadata": {},
   "outputs": [
    {
     "data": {
      "text/html": [
       "<div>\n",
       "<style scoped>\n",
       "    .dataframe tbody tr th:only-of-type {\n",
       "        vertical-align: middle;\n",
       "    }\n",
       "\n",
       "    .dataframe tbody tr th {\n",
       "        vertical-align: top;\n",
       "    }\n",
       "\n",
       "    .dataframe thead th {\n",
       "        text-align: right;\n",
       "    }\n",
       "</style>\n",
       "<table border=\"1\" class=\"dataframe\">\n",
       "  <thead>\n",
       "    <tr style=\"text-align: right;\">\n",
       "      <th></th>\n",
       "      <th>MESSAGE</th>\n",
       "      <th>CATEGORY</th>\n",
       "    </tr>\n",
       "  </thead>\n",
       "  <tbody>\n",
       "    <tr>\n",
       "      <th>00249.5f45607c1bffe89f60ba1ec9f878039a</th>\n",
       "      <td>Dear Homeowner,\\n\\n \\n\\nInterest Rates are at ...</td>\n",
       "      <td>1</td>\n",
       "    </tr>\n",
       "    <tr>\n",
       "      <th>00373.ebe8670ac56b04125c25100a36ab0510</th>\n",
       "      <td>ATTENTION: This is a MUST for ALL Computer Use...</td>\n",
       "      <td>1</td>\n",
       "    </tr>\n",
       "    <tr>\n",
       "      <th>00214.1367039e50dc6b7adb0f2aa8aba83216</th>\n",
       "      <td>This is a multi-part message in MIME format.\\n...</td>\n",
       "      <td>1</td>\n",
       "    </tr>\n",
       "    <tr>\n",
       "      <th>00210.050ffd105bd4e006771ee63cabc59978</th>\n",
       "      <td>IMPORTANT INFORMATION:\\n\\n\\n\\nThe new domain n...</td>\n",
       "      <td>1</td>\n",
       "    </tr>\n",
       "    <tr>\n",
       "      <th>00033.9babb58d9298daa2963d4f514193d7d6</th>\n",
       "      <td>This is the bottom line.  If you can GIVE AWAY...</td>\n",
       "      <td>1</td>\n",
       "    </tr>\n",
       "  </tbody>\n",
       "</table>\n",
       "</div>"
      ],
      "text/plain": [
       "                                                                                  MESSAGE  \\\n",
       "00249.5f45607c1bffe89f60ba1ec9f878039a  Dear Homeowner,\\n\\n \\n\\nInterest Rates are at ...   \n",
       "00373.ebe8670ac56b04125c25100a36ab0510  ATTENTION: This is a MUST for ALL Computer Use...   \n",
       "00214.1367039e50dc6b7adb0f2aa8aba83216  This is a multi-part message in MIME format.\\n...   \n",
       "00210.050ffd105bd4e006771ee63cabc59978  IMPORTANT INFORMATION:\\n\\n\\n\\nThe new domain n...   \n",
       "00033.9babb58d9298daa2963d4f514193d7d6  This is the bottom line.  If you can GIVE AWAY...   \n",
       "\n",
       "                                        CATEGORY  \n",
       "00249.5f45607c1bffe89f60ba1ec9f878039a         1  \n",
       "00373.ebe8670ac56b04125c25100a36ab0510         1  \n",
       "00214.1367039e50dc6b7adb0f2aa8aba83216         1  \n",
       "00210.050ffd105bd4e006771ee63cabc59978         1  \n",
       "00033.9babb58d9298daa2963d4f514193d7d6         1  "
      ]
     },
     "execution_count": 6,
     "metadata": {},
     "output_type": "execute_result"
    }
   ],
   "source": [
    "spam_emails = df_from_directory(spam_1_path, spam_cat) #Category for spam 1\n",
    "spam_emails.head()"
   ]
  },
  {
   "cell_type": "code",
   "execution_count": 8,
   "metadata": {},
   "outputs": [],
   "source": [
    "spam_emails_2 = df_from_directory(spam_2_path, spam_cat)\n",
    "spam_emails = pd.concat([spam_emails, spam_emails_2])"
   ]
  },
  {
   "cell_type": "code",
   "execution_count": 9,
   "metadata": {},
   "outputs": [
    {
     "data": {
      "text/plain": [
       "(1898, 2)"
      ]
     },
     "execution_count": 9,
     "metadata": {},
     "output_type": "execute_result"
    }
   ],
   "source": [
    "spam_emails.shape"
   ]
  },
  {
   "cell_type": "code",
   "execution_count": 10,
   "metadata": {},
   "outputs": [
    {
     "data": {
      "text/html": [
       "<div>\n",
       "<style scoped>\n",
       "    .dataframe tbody tr th:only-of-type {\n",
       "        vertical-align: middle;\n",
       "    }\n",
       "\n",
       "    .dataframe tbody tr th {\n",
       "        vertical-align: top;\n",
       "    }\n",
       "\n",
       "    .dataframe thead th {\n",
       "        text-align: right;\n",
       "    }\n",
       "</style>\n",
       "<table border=\"1\" class=\"dataframe\">\n",
       "  <thead>\n",
       "    <tr style=\"text-align: right;\">\n",
       "      <th></th>\n",
       "      <th>MESSAGE</th>\n",
       "      <th>CATEGORY</th>\n",
       "    </tr>\n",
       "  </thead>\n",
       "  <tbody>\n",
       "    <tr>\n",
       "      <th>00769.25bf9a767b5db0ed93f03c1637281663</th>\n",
       "      <td>\\n\\nIn a message dated 9/24/2002 11:24:58 AM, ...</td>\n",
       "      <td>0</td>\n",
       "    </tr>\n",
       "    <tr>\n",
       "      <th>01074.8590d61ac0aeeadb58dc2f2ba776c406</th>\n",
       "      <td>Hiya, I always seem to get errors when I do an...</td>\n",
       "      <td>0</td>\n",
       "    </tr>\n",
       "    <tr>\n",
       "      <th>02479.14365bcad3a60fcf24c5c1813f6291fb</th>\n",
       "      <td>\\n\\nI don't know how one can expect better and...</td>\n",
       "      <td>0</td>\n",
       "    </tr>\n",
       "    <tr>\n",
       "      <th>01417.ce7b07a2114218dbac682b599785820d</th>\n",
       "      <td>Tim Peters wrote:\\n\\n&gt; I've run no experiments...</td>\n",
       "      <td>0</td>\n",
       "    </tr>\n",
       "    <tr>\n",
       "      <th>00357.d559b71616f64ba1d1c1e61a03644fd4</th>\n",
       "      <td>At 10:34 AM -0700 on 8/28/02, Jim Whitehead wr...</td>\n",
       "      <td>0</td>\n",
       "    </tr>\n",
       "  </tbody>\n",
       "</table>\n",
       "</div>"
      ],
      "text/plain": [
       "                                                                                  MESSAGE  \\\n",
       "00769.25bf9a767b5db0ed93f03c1637281663  \\n\\nIn a message dated 9/24/2002 11:24:58 AM, ...   \n",
       "01074.8590d61ac0aeeadb58dc2f2ba776c406  Hiya, I always seem to get errors when I do an...   \n",
       "02479.14365bcad3a60fcf24c5c1813f6291fb  \\n\\nI don't know how one can expect better and...   \n",
       "01417.ce7b07a2114218dbac682b599785820d  Tim Peters wrote:\\n\\n> I've run no experiments...   \n",
       "00357.d559b71616f64ba1d1c1e61a03644fd4  At 10:34 AM -0700 on 8/28/02, Jim Whitehead wr...   \n",
       "\n",
       "                                        CATEGORY  \n",
       "00769.25bf9a767b5db0ed93f03c1637281663         0  \n",
       "01074.8590d61ac0aeeadb58dc2f2ba776c406         0  \n",
       "02479.14365bcad3a60fcf24c5c1813f6291fb         0  \n",
       "01417.ce7b07a2114218dbac682b599785820d         0  \n",
       "00357.d559b71616f64ba1d1c1e61a03644fd4         0  "
      ]
     },
     "execution_count": 10,
     "metadata": {},
     "output_type": "execute_result"
    }
   ],
   "source": [
    "ham_emails = df_from_directory(easy_nonspam_1_path, ham_cat)\n",
    "ham_emails_2 = df_from_directory(easy_nonspam_2_path, ham_cat)\n",
    "\n",
    "ham_emails = pd.concat([ham_emails, ham_emails_2])\n",
    "\n",
    "ham_emails.head()"
   ]
  },
  {
   "cell_type": "code",
   "execution_count": 11,
   "metadata": {},
   "outputs": [
    {
     "data": {
      "text/plain": [
       "(3901, 2)"
      ]
     },
     "execution_count": 11,
     "metadata": {},
     "output_type": "execute_result"
    }
   ],
   "source": [
    "ham_emails.shape"
   ]
  },
  {
   "cell_type": "code",
   "execution_count": 12,
   "metadata": {},
   "outputs": [
    {
     "name": "stdout",
     "output_type": "stream",
     "text": [
      "Shape of entire df: (5799, 2)\n"
     ]
    },
    {
     "data": {
      "text/html": [
       "<div>\n",
       "<style scoped>\n",
       "    .dataframe tbody tr th:only-of-type {\n",
       "        vertical-align: middle;\n",
       "    }\n",
       "\n",
       "    .dataframe tbody tr th {\n",
       "        vertical-align: top;\n",
       "    }\n",
       "\n",
       "    .dataframe thead th {\n",
       "        text-align: right;\n",
       "    }\n",
       "</style>\n",
       "<table border=\"1\" class=\"dataframe\">\n",
       "  <thead>\n",
       "    <tr style=\"text-align: right;\">\n",
       "      <th></th>\n",
       "      <th>MESSAGE</th>\n",
       "      <th>CATEGORY</th>\n",
       "    </tr>\n",
       "  </thead>\n",
       "  <tbody>\n",
       "    <tr>\n",
       "      <th>00609.dd49926ce94a1ea328cce9b62825bc97</th>\n",
       "      <td>I'm one of the 30,000 but it's not working ver...</td>\n",
       "      <td>0</td>\n",
       "    </tr>\n",
       "    <tr>\n",
       "      <th>00957.e0b56b117f3ec5f85e432a9d2a47801f</th>\n",
       "      <td>Damien Morton quoted:\\n\\n&gt;W3C approves HTML 4 ...</td>\n",
       "      <td>0</td>\n",
       "    </tr>\n",
       "    <tr>\n",
       "      <th>01127.841233b48eceb74a825417d8d918abf8</th>\n",
       "      <td>On Mon, 2002-07-22 at 06:50, che wrote:\\n\\n\\n\\...</td>\n",
       "      <td>0</td>\n",
       "    </tr>\n",
       "    <tr>\n",
       "      <th>01178.5c977dff972cd6eef64d4173b90307f0</th>\n",
       "      <td>Once upon a time, Manfred wrote :\\n\\n\\n\\n&gt; I w...</td>\n",
       "      <td>0</td>\n",
       "    </tr>\n",
       "    <tr>\n",
       "      <th>00747.352d424267d36975a7b40b85ffd0885e</th>\n",
       "      <td>If you run Pick, and then use the \"New FTOC\" b...</td>\n",
       "      <td>0</td>\n",
       "    </tr>\n",
       "  </tbody>\n",
       "</table>\n",
       "</div>"
      ],
      "text/plain": [
       "                                                                                  MESSAGE  \\\n",
       "00609.dd49926ce94a1ea328cce9b62825bc97  I'm one of the 30,000 but it's not working ver...   \n",
       "00957.e0b56b117f3ec5f85e432a9d2a47801f  Damien Morton quoted:\\n\\n>W3C approves HTML 4 ...   \n",
       "01127.841233b48eceb74a825417d8d918abf8  On Mon, 2002-07-22 at 06:50, che wrote:\\n\\n\\n\\...   \n",
       "01178.5c977dff972cd6eef64d4173b90307f0  Once upon a time, Manfred wrote :\\n\\n\\n\\n> I w...   \n",
       "00747.352d424267d36975a7b40b85ffd0885e  If you run Pick, and then use the \"New FTOC\" b...   \n",
       "\n",
       "                                        CATEGORY  \n",
       "00609.dd49926ce94a1ea328cce9b62825bc97         0  \n",
       "00957.e0b56b117f3ec5f85e432a9d2a47801f         0  \n",
       "01127.841233b48eceb74a825417d8d918abf8         0  \n",
       "01178.5c977dff972cd6eef64d4173b90307f0         0  \n",
       "00747.352d424267d36975a7b40b85ffd0885e         0  "
      ]
     },
     "execution_count": 12,
     "metadata": {},
     "output_type": "execute_result"
    }
   ],
   "source": [
    "data = pd.concat([spam_emails, ham_emails])\n",
    "print('Shape of entire df:', data.shape)\n",
    "data.tail()"
   ]
  },
  {
   "cell_type": "markdown",
   "metadata": {},
   "source": [
    "# Cleaning Data"
   ]
  },
  {
   "cell_type": "code",
   "execution_count": 13,
   "metadata": {},
   "outputs": [
    {
     "data": {
      "text/plain": [
       "False"
      ]
     },
     "execution_count": 13,
     "metadata": {},
     "output_type": "execute_result"
    }
   ],
   "source": [
    "data.MESSAGE.isnull().values.any() # Checking for if any message is null"
   ]
  },
  {
   "cell_type": "code",
   "execution_count": 14,
   "metadata": {},
   "outputs": [
    {
     "data": {
      "text/plain": [
       "True"
      ]
     },
     "execution_count": 14,
     "metadata": {},
     "output_type": "execute_result"
    }
   ],
   "source": [
    "#Check if there are empty emails\n",
    "\n",
    "(data.MESSAGE.str.len() == 0).any()"
   ]
  },
  {
   "cell_type": "code",
   "execution_count": 15,
   "metadata": {},
   "outputs": [
    {
     "data": {
      "text/plain": [
       "3"
      ]
     },
     "execution_count": 15,
     "metadata": {},
     "output_type": "execute_result"
    }
   ],
   "source": [
    "(data.MESSAGE.str.len() == 0).sum() # 3 emails are empty"
   ]
  },
  {
   "cell_type": "code",
   "execution_count": 16,
   "metadata": {},
   "outputs": [
    {
     "data": {
      "text/plain": [
       "Index(['cmds', 'cmds', 'cmds'], dtype='object')"
      ]
     },
     "execution_count": 16,
     "metadata": {},
     "output_type": "execute_result"
    }
   ],
   "source": [
    "data[data.MESSAGE.str.len() == 0].index #empty files with index names\n",
    "\n",
    "#cmds comes from unzipping, its a system file we dont need this"
   ]
  },
  {
   "cell_type": "code",
   "execution_count": 17,
   "metadata": {},
   "outputs": [],
   "source": [
    "data.drop(['cmds'],inplace=True) #dropping system files"
   ]
  },
  {
   "cell_type": "code",
   "execution_count": 18,
   "metadata": {},
   "outputs": [
    {
     "data": {
      "text/plain": [
       "(5796, 2)"
      ]
     },
     "execution_count": 18,
     "metadata": {},
     "output_type": "execute_result"
    }
   ],
   "source": [
    "data.shape"
   ]
  },
  {
   "cell_type": "markdown",
   "metadata": {},
   "source": [
    "Add document IDs to Track Emails in DF"
   ]
  },
  {
   "cell_type": "code",
   "execution_count": 19,
   "metadata": {},
   "outputs": [
    {
     "data": {
      "text/html": [
       "<div>\n",
       "<style scoped>\n",
       "    .dataframe tbody tr th:only-of-type {\n",
       "        vertical-align: middle;\n",
       "    }\n",
       "\n",
       "    .dataframe tbody tr th {\n",
       "        vertical-align: top;\n",
       "    }\n",
       "\n",
       "    .dataframe thead th {\n",
       "        text-align: right;\n",
       "    }\n",
       "</style>\n",
       "<table border=\"1\" class=\"dataframe\">\n",
       "  <thead>\n",
       "    <tr style=\"text-align: right;\">\n",
       "      <th></th>\n",
       "      <th>MESSAGE</th>\n",
       "      <th>CATEGORY</th>\n",
       "      <th>DOC_ID</th>\n",
       "    </tr>\n",
       "  </thead>\n",
       "  <tbody>\n",
       "    <tr>\n",
       "      <th>00249.5f45607c1bffe89f60ba1ec9f878039a</th>\n",
       "      <td>Dear Homeowner,\\n\\n \\n\\nInterest Rates are at ...</td>\n",
       "      <td>1</td>\n",
       "      <td>0</td>\n",
       "    </tr>\n",
       "    <tr>\n",
       "      <th>00373.ebe8670ac56b04125c25100a36ab0510</th>\n",
       "      <td>ATTENTION: This is a MUST for ALL Computer Use...</td>\n",
       "      <td>1</td>\n",
       "      <td>1</td>\n",
       "    </tr>\n",
       "    <tr>\n",
       "      <th>00214.1367039e50dc6b7adb0f2aa8aba83216</th>\n",
       "      <td>This is a multi-part message in MIME format.\\n...</td>\n",
       "      <td>1</td>\n",
       "      <td>2</td>\n",
       "    </tr>\n",
       "    <tr>\n",
       "      <th>00210.050ffd105bd4e006771ee63cabc59978</th>\n",
       "      <td>IMPORTANT INFORMATION:\\n\\n\\n\\nThe new domain n...</td>\n",
       "      <td>1</td>\n",
       "      <td>3</td>\n",
       "    </tr>\n",
       "    <tr>\n",
       "      <th>00033.9babb58d9298daa2963d4f514193d7d6</th>\n",
       "      <td>This is the bottom line.  If you can GIVE AWAY...</td>\n",
       "      <td>1</td>\n",
       "      <td>4</td>\n",
       "    </tr>\n",
       "  </tbody>\n",
       "</table>\n",
       "</div>"
      ],
      "text/plain": [
       "                                                                                  MESSAGE  \\\n",
       "00249.5f45607c1bffe89f60ba1ec9f878039a  Dear Homeowner,\\n\\n \\n\\nInterest Rates are at ...   \n",
       "00373.ebe8670ac56b04125c25100a36ab0510  ATTENTION: This is a MUST for ALL Computer Use...   \n",
       "00214.1367039e50dc6b7adb0f2aa8aba83216  This is a multi-part message in MIME format.\\n...   \n",
       "00210.050ffd105bd4e006771ee63cabc59978  IMPORTANT INFORMATION:\\n\\n\\n\\nThe new domain n...   \n",
       "00033.9babb58d9298daa2963d4f514193d7d6  This is the bottom line.  If you can GIVE AWAY...   \n",
       "\n",
       "                                        CATEGORY  DOC_ID  \n",
       "00249.5f45607c1bffe89f60ba1ec9f878039a         1       0  \n",
       "00373.ebe8670ac56b04125c25100a36ab0510         1       1  \n",
       "00214.1367039e50dc6b7adb0f2aa8aba83216         1       2  \n",
       "00210.050ffd105bd4e006771ee63cabc59978         1       3  \n",
       "00033.9babb58d9298daa2963d4f514193d7d6         1       4  "
      ]
     },
     "execution_count": 19,
     "metadata": {},
     "output_type": "execute_result"
    }
   ],
   "source": [
    "document_ids = range(0,len(data.index))\n",
    "\n",
    "data['DOC_ID'] = document_ids\n",
    "\n",
    "data.head()"
   ]
  },
  {
   "cell_type": "code",
   "execution_count": 20,
   "metadata": {},
   "outputs": [
    {
     "data": {
      "text/html": [
       "<div>\n",
       "<style scoped>\n",
       "    .dataframe tbody tr th:only-of-type {\n",
       "        vertical-align: middle;\n",
       "    }\n",
       "\n",
       "    .dataframe tbody tr th {\n",
       "        vertical-align: top;\n",
       "    }\n",
       "\n",
       "    .dataframe thead th {\n",
       "        text-align: right;\n",
       "    }\n",
       "</style>\n",
       "<table border=\"1\" class=\"dataframe\">\n",
       "  <thead>\n",
       "    <tr style=\"text-align: right;\">\n",
       "      <th></th>\n",
       "      <th>MESSAGE</th>\n",
       "      <th>CATEGORY</th>\n",
       "      <th>FILE_NAME</th>\n",
       "    </tr>\n",
       "    <tr>\n",
       "      <th>DOC_ID</th>\n",
       "      <th></th>\n",
       "      <th></th>\n",
       "      <th></th>\n",
       "    </tr>\n",
       "  </thead>\n",
       "  <tbody>\n",
       "    <tr>\n",
       "      <th>0</th>\n",
       "      <td>Dear Homeowner,\\n\\n \\n\\nInterest Rates are at ...</td>\n",
       "      <td>1</td>\n",
       "      <td>00249.5f45607c1bffe89f60ba1ec9f878039a</td>\n",
       "    </tr>\n",
       "    <tr>\n",
       "      <th>1</th>\n",
       "      <td>ATTENTION: This is a MUST for ALL Computer Use...</td>\n",
       "      <td>1</td>\n",
       "      <td>00373.ebe8670ac56b04125c25100a36ab0510</td>\n",
       "    </tr>\n",
       "    <tr>\n",
       "      <th>2</th>\n",
       "      <td>This is a multi-part message in MIME format.\\n...</td>\n",
       "      <td>1</td>\n",
       "      <td>00214.1367039e50dc6b7adb0f2aa8aba83216</td>\n",
       "    </tr>\n",
       "    <tr>\n",
       "      <th>3</th>\n",
       "      <td>IMPORTANT INFORMATION:\\n\\n\\n\\nThe new domain n...</td>\n",
       "      <td>1</td>\n",
       "      <td>00210.050ffd105bd4e006771ee63cabc59978</td>\n",
       "    </tr>\n",
       "    <tr>\n",
       "      <th>4</th>\n",
       "      <td>This is the bottom line.  If you can GIVE AWAY...</td>\n",
       "      <td>1</td>\n",
       "      <td>00033.9babb58d9298daa2963d4f514193d7d6</td>\n",
       "    </tr>\n",
       "  </tbody>\n",
       "</table>\n",
       "</div>"
      ],
      "text/plain": [
       "                                                  MESSAGE  CATEGORY  \\\n",
       "DOC_ID                                                                \n",
       "0       Dear Homeowner,\\n\\n \\n\\nInterest Rates are at ...         1   \n",
       "1       ATTENTION: This is a MUST for ALL Computer Use...         1   \n",
       "2       This is a multi-part message in MIME format.\\n...         1   \n",
       "3       IMPORTANT INFORMATION:\\n\\n\\n\\nThe new domain n...         1   \n",
       "4       This is the bottom line.  If you can GIVE AWAY...         1   \n",
       "\n",
       "                                     FILE_NAME  \n",
       "DOC_ID                                          \n",
       "0       00249.5f45607c1bffe89f60ba1ec9f878039a  \n",
       "1       00373.ebe8670ac56b04125c25100a36ab0510  \n",
       "2       00214.1367039e50dc6b7adb0f2aa8aba83216  \n",
       "3       00210.050ffd105bd4e006771ee63cabc59978  \n",
       "4       00033.9babb58d9298daa2963d4f514193d7d6  "
      ]
     },
     "execution_count": 20,
     "metadata": {},
     "output_type": "execute_result"
    }
   ],
   "source": [
    "data['FILE_NAME'] = data.index\n",
    "data.set_index('DOC_ID', inplace=True)\n",
    "data.head()"
   ]
  },
  {
   "cell_type": "markdown",
   "metadata": {},
   "source": [
    "### Save Data"
   ]
  },
  {
   "cell_type": "code",
   "execution_count": 70,
   "metadata": {},
   "outputs": [],
   "source": [
    "data.to_json(data_json_file)"
   ]
  },
  {
   "cell_type": "code",
   "execution_count": 21,
   "metadata": {},
   "outputs": [
    {
     "data": {
      "text/plain": [
       "CATEGORY\n",
       "0    3900\n",
       "1    1896\n",
       "Name: count, dtype: int64"
      ]
     },
     "execution_count": 21,
     "metadata": {},
     "output_type": "execute_result"
    }
   ],
   "source": [
    "data.CATEGORY.value_counts()"
   ]
  },
  {
   "cell_type": "code",
   "execution_count": 22,
   "metadata": {},
   "outputs": [
    {
     "data": {
      "image/png": "[encoded data removed]",
      "text/plain": [
       "<Figure size 400x400 with 1 Axes>"
      ]
     },
     "metadata": {},
     "output_type": "display_data"
    }
   ],
   "source": [
    "amounts_of_spam = data.CATEGORY.value_counts()[1]\n",
    "amounts_of_ham = data.CATEGORY.value_counts()[0]\n",
    "\n",
    "category_names = ['Spam', 'Legit Mail']\n",
    "sizes = [amounts_of_spam, amounts_of_ham]\n",
    "custom_colors = ['#ff6b6b', '#78e08f']\n",
    "\n",
    "plt.figure(figsize=(4,4))\n",
    "plt.pie(sizes, labels=category_names, textprops={'fontsize': 13}, startangle= 90,\n",
    "         autopct='%1.1f%%', colors=custom_colors, explode=[0, 0.1])\n",
    "plt.show()"
   ]
  },
  {
   "cell_type": "markdown",
   "metadata": {},
   "source": [
    "## Pre-Processing \n",
    "\n",
    "- Converting to lower case\n",
    "- Tokenising\n",
    "- Removing stop words (the, I, of , at, which, on, etc.)\n",
    "- Stripping out HTML Tags\n",
    "- Word stemming\n",
    "- Remove punctuation\n"
   ]
  },
  {
   "cell_type": "markdown",
   "metadata": {},
   "source": [
    "Download the NLTK Resources"
   ]
  },
  {
   "cell_type": "code",
   "execution_count": 23,
   "metadata": {},
   "outputs": [
    {
     "name": "stderr",
     "output_type": "stream",
     "text": [
      "[nltk_data] Downloading package punkt to\n",
      "[nltk_data]     /Users/burakbedir/nltk_data...\n",
      "[nltk_data]   Package punkt is already up-to-date!\n"
     ]
    },
    {
     "data": {
      "text/plain": [
       "True"
      ]
     },
     "execution_count": 23,
     "metadata": {},
     "output_type": "execute_result"
    }
   ],
   "source": [
    "nltk.download('punkt')"
   ]
  },
  {
   "cell_type": "code",
   "execution_count": 24,
   "metadata": {},
   "outputs": [
    {
     "name": "stderr",
     "output_type": "stream",
     "text": [
      "[nltk_data] Downloading package stopwords to\n",
      "[nltk_data]     /Users/burakbedir/nltk_data...\n",
      "[nltk_data]   Package stopwords is already up-to-date!\n"
     ]
    },
    {
     "data": {
      "text/plain": [
       "True"
      ]
     },
     "execution_count": 24,
     "metadata": {},
     "output_type": "execute_result"
    }
   ],
   "source": [
    "nltk.download('stopwords')"
   ]
  },
  {
   "cell_type": "code",
   "execution_count": 25,
   "metadata": {},
   "outputs": [],
   "source": [
    "stop_words = set(stopwords.words('english')) #set checking for match"
   ]
  },
  {
   "cell_type": "code",
   "execution_count": 34,
   "metadata": {},
   "outputs": [
    {
     "name": "stdout",
     "output_type": "stream",
     "text": [
      "['work', 'play', 'makes', 'jack', 'dull', 'boy', '.']\n"
     ]
    }
   ],
   "source": [
    "msg = 'All work and no play makes Jack a dull boy. To be or not to be'\n",
    "\n",
    "words = word_tokenize(msg.lower())\n",
    "\n",
    "filtered_words = []\n",
    "\n",
    "for word in words:\n",
    "    if word not in stop_words:\n",
    "        filtered_words.append(word)\n",
    "print(filtered_words)"
   ]
  },
  {
   "cell_type": "markdown",
   "metadata": {},
   "source": [
    "Stemming is reducing words to their root form. Ex: 'fishing' --> 'fish'"
   ]
  },
  {
   "cell_type": "code",
   "execution_count": 41,
   "metadata": {},
   "outputs": [
    {
     "name": "stdout",
     "output_type": "stream",
     "text": [
      "['work', 'play', 'make', 'jack', 'dull', 'boy', 'nobodi', 'expect', 'spanish', 'inquisit']\n"
     ]
    }
   ],
   "source": [
    "msg = 'All work and no play makes Jack a dull boy. To be or not to be ? \\\n",
    "    Nobody expects the Spanish Inquisition!'\n",
    "\n",
    "words = word_tokenize(msg.lower())\n",
    "\n",
    "stemmer = PorterStemmer() # For other languages you can use SnowballStemmer()\n",
    "\n",
    "# .isaplha() = True when its not a punctuation.\n",
    "\n",
    "filtered_words = []\n",
    "\n",
    "for word in words:\n",
    "    if word not in stop_words and word.isalpha():\n",
    "        stemmed_word = stemmer.stem(word)\n",
    "        filtered_words.append(stemmed_word)\n",
    "print(filtered_words)"
   ]
  },
  {
   "cell_type": "markdown",
   "metadata": {},
   "source": [
    "Purpose of HTML is formatting. We need to remove them"
   ]
  },
  {
   "cell_type": "code",
   "execution_count": 47,
   "metadata": {},
   "outputs": [
    {
     "data": {
      "text/plain": [
       "'This is a multi-part message in MIME format.\\n\\n\\n\\n------=_NextPart_000_1CDC19_01C25366.4B57F3A0\\n\\nContent-Type: text/plain;\\n\\n\\tcharset=\"Windows-1252\"\\n\\nContent-Transfer-Encoding: quoted-printable\\n\\n\\n\\n We dare you...\\n\\n Try to find a better annuity!\\n\\n=20\\n\\n  - 5.40% Guaranteed for 6 Years=0A=\\n\\n- 6 Year Surrender Charge=0A=\\n\\n- 5% Agent\\n\\nCommission up to age 80=09\\n\\nCall today for more information!\\n\\n 800-888-7641 ext. 103\\n\\n- or -\\n\\n\\n\\nPlease fill out the form below for more information\\t=20\\n\\nName:\\t \\t  =09\\n\\nE-mail:\\t \\t=20\\n\\nPhone:\\t \\t=20\\n\\nCity:\\t \\t State:\\t \\t=20\\n\\n \\t    =09\\n\\n=20\\n\\n PMG Financial Services\\n\\n*5.40% for deposits of $100,000 and up, 5.25% interest for deposits\\n\\ntotalling $25,000-$99,999.\\t=20\\n\\nWe don\\'t want anyone to receive our mailings who does not wish to\\n\\nreceive them. This is a professional communication sent to insurance\\n\\nprofessionals. To be removed from this mailing list, DO NOT REPLY to\\n\\nthis message. Instead, go here: http://www.insuranceiq.com/optout\\n\\n<http://www.insuranceiq.com/optout/>=20\\n\\n\\n\\nLegal Notice <http://www.insiq.com/legal.htm>=20\\n\\n\\n\\n------=_NextPart_000_1CDC19_01C25366.4B57F3A0\\n\\nContent-Type: text/html;\\n\\n\\tcharset=\"iso-8859-1\"\\n\\nContent-Transfer-Encoding: quoted-printable\\n\\n\\n\\n<html>\\n\\n<head>\\n\\n<title>We Dare You to Find a Better Annuity</title>\\n\\n<meta http-equiv=3D\"Content-Type\" content=3D\"text/html; =\\n\\ncharset=3Diso-8859-1\">\\n\\n</head>\\n\\n<body bgcolor=3D\"#666666\" text=3D\"#000000\">\\n\\n<font face=3D\"Arial, Helvetica, sans-serif\">=20\\n\\n<table width=3D\"550\" border=3D\"1\" align=3D\"center\" cellpadding=3D\"0\" =\\n\\ncellspacing=3D\"0\" bordercolor=3D\"#000000\" bgcolor=3D\"#FFFFFF\">\\n\\n  <tr>=20\\n\\n    <td>\\n\\n      <img src=3D\"http://iiq.us/images/pmg/20020822-101.gif\" alt=3D\"We =\\n\\ndare you...\" width=3D\"550\" height=3D\"55\"><br>\\n\\n      <img src=3D\"http://iiq.us/images/pmg/20020822-102.jpg\" alt=3D\"Try =\\n\\nto find a better annuity!\" width=3D\"550\" height=3D\"47\"><br>\\n\\n      <img src=3D\"http://iiq.us/images/pmg/20020822-103.jpg\" =\\n\\nwidth=3D\"550\" height=3D\"248\">=20\\n\\n      <table width=3D\"100%\" cellpadding=3D\"2\" cellspacing=3D\"2\" =\\n\\nborder=3D\"0\" bgcolor=3D\"#ffffff\">\\n\\n        <tr>=20\\n\\n          <td><img src=3D\"http://iiq.us/images/pmg/20020822-201.gif\" =\\n\\nwidth=3D\"32\" height=3D\"142\"><img =\\n\\nsrc=3D\"http://iiq.us/images/pmg/20020822-202.gif\" alt=3D\"- 5.40% =\\n\\nGuaranteed for 6 Years&#10;- 6 Year Surrender Charge&#10;- 5% Agent =\\n\\nCommission up to age 80\" width=3D\"508\" height=3D\"142\"></td>\\n\\n        </tr>\\n\\n        <tr>=20\\n\\n          <td align=3D\"center\">\\n\\n            <b><font size=3D\"2\">Call today for more information!<br>\\n\\n            <img src=3D\"http://iiq.us/images/pmg/20020822-3.gif\" =\\n\\nalt=3D\"800-888-7641 ext. 103\" width=3D\"535\" height=3D\"115\"><br>\\n\\n            - or -</font></b><br>\\n\\n            <table width=3D\"95%\" border=3D\"1\" cellpadding=3D\"0\" =\\n\\ncellspacing=3D\"0\" bordercolor=3D\"#000000\">\\n\\n              <tr>=20\\n\\n                <form method=3D\"post\" =\\n\\naction=3D\"http://65.217.159.103/response/response.asp\">\\n\\n                  <td>=20\\n\\n                    <table width=3D\"100%\" border=3D\"0\" align=3D\"center\" =\\n\\ncellpadding=3D\"2\" cellspacing=3D\"0\" =\\n\\nbackground=3D\"http://iiq.us/images/pmg/20020822-5.gif\" =\\n\\nbgcolor=3D\"#ffffff\">\\n\\n                      <tr>=20\\n\\n                        <td colspan=3D\"5\" align=3D\"center\"><b><font =\\n\\nsize=3D\"2\">Please fill out the form below for more =\\n\\ninformation</font></b></td>\\n\\n                      </tr>\\n\\n                      <tr>=20\\n\\n                        <td width=3D\"15%\" align=3D\"right\"><b><font =\\n\\nsize=3D\"2\">Name:</font></b></td>\\n\\n                        <td colspan=3D\"3\"><input type=3D\"text\" =\\n\\nname=3D\"contactname\" size=3D\"50\"></td>\\n\\n                        <td rowspan=3D\"5\" valign=3D\"middle\" =\\n\\nalign=3D\"center\"><img src=3D\"http://iiq.us/images/q3.gif\" width=3D\"43\" =\\n\\nheight=3D\"50\"></td>\\n\\n                      </tr>\\n\\n                      <tr>=20\\n\\n                        <td width=3D\"15%\" align=3D\"right\"><b><font =\\n\\nsize=3D\"2\">E-mail:</font></b></td>\\n\\n                        <td colspan=3D\"3\"><input type=3D\"text\" =\\n\\nname=3D\"email\" size=3D\"50\"></td>\\n\\n                      </tr>\\n\\n                      <tr>=20\\n\\n                        <td width=3D\"15%\" align=3D\"right\"><b><font =\\n\\nsize=3D\"2\">Phone:</font></b></td>\\n\\n                        <td colspan=3D\"3\"><input type=3D\"text\" =\\n\\nname=3D\"phone\" size=3D\"50\"></td>\\n\\n                      </tr>\\n\\n                      <tr>=20\\n\\n                        <td width=3D\"15%\" align=3D\"right\"><b><font =\\n\\nsize=3D\"2\">City:</font></b></td>\\n\\n                        <td width=3D\"30%\"><input type=3D\"text\" =\\n\\nname=3D\"city\" size=3D\"20\"></td>\\n\\n                        <td width=3D\"15%\" align=3D\"right\"><b><font =\\n\\nsize=3D\"2\">State:</font></b></td>\\n\\n                        <td width=3D\"20%\"><input type=3D\"text\" =\\n\\nname=3D\"state\" size=3D\"2\"></td>\\n\\n                      </tr>\\n\\n                      <tr>=20\\n\\n                        <td width=3D\"15%\" align=3D\"right\">&nbsp;</td>\\n\\n                        <td width=3D\"30%\" colspan=3D\\'3\\'>=20\\n\\n                          <input type=3D\"submit\" name=3D\"btnsubmit\" =\\n\\nvalue=3D\"Submit\">\\n\\n                          <input type=3D\"hidden\" =\\n\\nname=3D\"hdnRecipientTxt\" value=3D\"rhock@pmgsecurities.com\">\\n\\n                          <input type=3D\"hidden\" name=3D\"hdnSubjectTxt\" =\\n\\nvalue=3D\"PMG Dare Ad Inquiry\">\\n\\n                        </td>\\n\\n                      </tr>\\n\\n                    </table>\\n\\n                  </td>\\n\\n                <input type=3D\\'hidden\\' name=3D\\'SentTo\\' value=3D\\'304704\\'>\\n\\n</form>\\n\\n              </tr>\\n\\n            </table>\\n\\n            <b><font size=3D\"2\"><img =\\n\\nsrc=3D\"http://iiq.us/images/pmg/20020822-4.gif\" alt=3D\"PMG Financial =\\n\\nServices\" width=3D\"416\" height=3D\"142\">=20\\n\\n            </font></b></td>\\n\\n        </tr>\\n\\n        <tr>=20\\n\\n          <td><font size=3D\"1\">*5.40% for deposits of $100,000 and up, =\\n\\n5.25% interest for deposits totalling $25,000-$99,999.</font></td>\\n\\n        </tr>\\n\\n      </table>\\n\\n\\t\\t</td>\\n\\n  </tr>\\n\\n  <tr>=20\\n\\n    <td width=3D\"100%\" bgcolor=3D\"#cccccc\" align=3D\"center\">\\n\\n\\t\\t\\t<p><font face=3D\"Arial, Helvetica, sans-serif\" size=3D\"1\">We=20\\n\\n\\t\\t\\tdon\\'t want anyone to receive our mailings who does not=20\\n\\n\\t\\t\\twish to receive them. This is a professional communication=20\\n\\n\\t\\t\\tsent to insurance professionals. To be removed from this mailing=20\\n\\n\\t\\t\\tlist, <b>DO NOT REPLY</b> to this message. Instead, go here: <a =\\n\\nhref=3D\"http://www.insuranceiq.com/optout/\">=20\\n\\n\\t\\t\\thttp://www.insuranceiq.com/optout</a></font></p>\\n\\n    </td>\\n\\n  </tr>\\n\\n</table>\\n\\n<center>\\n\\n  <a href=3D\"http://www.insiq.com/legal.htm\"><font size=3D\"1\" =\\n\\nface=3D\"Arial, Helvetica, sans-serif\">Legal Notice </font></a>=20\\n\\n</center>\\n\\n</font>\\n\\n</body>\\n\\n</html>\\n\\n\\n\\n------=_NextPart_000_1CDC19_01C25366.4B57F3A0--\\n\\n\\n'"
      ]
     },
     "execution_count": 47,
     "metadata": {},
     "output_type": "execute_result"
    }
   ],
   "source": [
    "data.at[2, 'MESSAGE']"
   ]
  },
  {
   "cell_type": "code",
   "execution_count": 51,
   "metadata": {},
   "outputs": [
    {
     "name": "stdout",
     "output_type": "stream",
     "text": [
      "This is a multi-part message in MIME format.\n",
      "\n",
      "\n",
      "\n",
      "------=_NextPart_000_1CDC19_01C25366.4B57F3A0\n",
      "\n",
      "Content-Type: text/plain;\n",
      "\n",
      "\tcharset=\"Windows-1252\"\n",
      "\n",
      "Content-Transfer-Encoding: quoted-printable\n",
      "\n",
      "\n",
      "\n",
      " We dare you...\n",
      "\n",
      " Try to find a better annuity!\n",
      "\n",
      "=20\n",
      "\n",
      "  - 5.40% Guaranteed for 6 Years=0A=\n",
      "\n",
      "- 6 Year Surrender Charge=0A=\n",
      "\n",
      "- 5% Agent\n",
      "\n",
      "Commission up to age 80=09\n",
      "\n",
      "Call today for more information!\n",
      "\n",
      " 800-888-7641 ext. 103\n",
      "\n",
      "- or -\n",
      "\n",
      "\n",
      "\n",
      "Please fill out the form below for more information\t=20\n",
      "\n",
      "Name:\t \t  =09\n",
      "\n",
      "E-mail:\t \t=20\n",
      "\n",
      "Phone:\t \t=20\n",
      "\n",
      "City:\t \t State:\t \t=20\n",
      "\n",
      " \t    =09\n",
      "\n",
      "=20\n",
      "\n",
      " PMG Financial Services\n",
      "\n",
      "*5.40% for deposits of $100,000 and up, 5.25% interest for deposits\n",
      "\n",
      "totalling $25,000-$99,999.\t=20\n",
      "\n",
      "We don't want anyone to receive our mailings who does not wish to\n",
      "\n",
      "receive them. This is a professional communication sent to insurance\n",
      "\n",
      "professionals. To be removed from this mailing list, DO NOT REPLY to\n",
      "\n",
      "this message. Instead, go here: http://www.insuranceiq.com/optout\n",
      "<http: optout=\"\" www.insuranceiq.com=\"\">\n",
      "</http:>\n",
      "=20\n",
      "\n",
      "\n",
      "\n",
      "Legal Notice\n",
      "<http: legal.htm=\"\" www.insiq.com=\"\">\n",
      " =20\n",
      "\n",
      "\n",
      "\n",
      "------=_NextPart_000_1CDC19_01C25366.4B57F3A0\n",
      "\n",
      "Content-Type: text/html;\n",
      "\n",
      "\tcharset=\"iso-8859-1\"\n",
      "\n",
      "Content-Transfer-Encoding: quoted-printable\n",
      " <html>\n",
      "  <head>\n",
      "   <title>\n",
      "    We Dare You to Find a Better Annuity\n",
      "   </title>\n",
      "   <meta ==\"\" charset=\"utf-8\" content='3D\"text/html;' http-equiv='3D\"Content-Type\"'/>\n",
      "  </head>\n",
      "  <body bgcolor='3D\"#666666\"' text='3D\"#000000\"'>\n",
      "   <font face='3D\"Arial,' helvetica,=\"\" sans-serif\"=\"\">\n",
      "    =20\n",
      "    <table ==\"\" align='3D\"center\"' bgcolor='3D\"#FFFFFF\"' border='3D\"1\"' bordercolor='3D\"#000000\"' cellpadding='3D\"0\"' cellspacing='3D\"0\"' width='3D\"550\"'>\n",
      "     <tr>\n",
      "      =20\n",
      "      <td>\n",
      "       <img ==\"\" alt='3D\"We' dare=\"\" height='3D\"55\"' src='3D\"http://iiq.us/images/pmg/20020822-101.gif\"' width='3D\"550\"' you...\"=\"\"/>\n",
      "       <br/>\n",
      "       <img ==\"\" a=\"\" alt='3D\"Try' annuity!\"=\"\" better=\"\" find=\"\" height='3D\"47\"' src='3D\"http://iiq.us/images/pmg/20020822-102.jpg\"' to=\"\" width='3D\"550\"'/>\n",
      "       <br/>\n",
      "       <img ==\"\" height='3D\"248\"' src='3D\"http://iiq.us/images/pmg/20020822-103.jpg\"' width='3D\"550\"'/>\n",
      "       =20\n",
      "       <table ==\"\" bgcolor='3D\"#ffffff\"' border='3D\"0\"' cellpadding='3D\"2\"' cellspacing='3D\"2\"' width='3D\"100%\"'>\n",
      "        <tr>\n",
      "         =20\n",
      "         <td>\n",
      "          <img ==\"\" height='3D\"142\"' src='3D\"http://iiq.us/images/pmg/20020822-201.gif\"' width='3D\"32\"'/>\n",
      "          <img 5%=\"\" 5.40%=\"Guaranteed\" 6=\"\" 80\"=\"\" ==\"\" age=\"\" agent=\"Commission\" alt='3D\"-' charge&#10;-=\"\" for=\"\" height='3D\"142\"' src='3D\"http://iiq.us/images/pmg/20020822-202.gif\"' surrender=\"\" to=\"\" up=\"\" width='3D\"508\"' year=\"\" years&#10;-=\"\"/>\n",
      "         </td>\n",
      "        </tr>\n",
      "        <tr>\n",
      "         =20\n",
      "         <td align='3D\"center\"'>\n",
      "          <b>\n",
      "           <font size='3D\"2\"'>\n",
      "            Call today for more information!\n",
      "            <br/>\n",
      "            <img 103\"=\"\" ==\"\" alt='3D\"800-888-7641' ext.=\"\" height='3D\"115\"' src='3D\"http://iiq.us/images/pmg/20020822-3.gif\"' width='3D\"535\"'/>\n",
      "            <br/>\n",
      "            - or -\n",
      "           </font>\n",
      "          </b>\n",
      "          <br/>\n",
      "          <table ==\"\" border='3D\"1\"' bordercolor='3D\"#000000\"' cellpadding='3D\"0\"' cellspacing='3D\"0\"' width='3D\"95%\"'>\n",
      "           <tr>\n",
      "            =20\n",
      "            <form ==\"\" action='3D\"http://65.217.159.103/response/response.asp\"' method='3D\"post\"'>\n",
      "             <td>\n",
      "              =20\n",
      "              <table ==\"\" align='3D\"center\"' background='3D\"http://iiq.us/images/pmg/20020822-5.gif\"' bgcolor='3D\"#ffffff\"' border='3D\"0\"' cellpadding='3D\"2\"' cellspacing='3D\"0\"' width='3D\"100%\"'>\n",
      "               <tr>\n",
      "                =20\n",
      "                <td align='3D\"center\"' colspan='3D\"5\"'>\n",
      "                 <b>\n",
      "                  <font ==\"\" size='3D\"2\"'>\n",
      "                   Please fill out the form below for more =\n",
      "\n",
      "information\n",
      "                  </font>\n",
      "                 </b>\n",
      "                </td>\n",
      "               </tr>\n",
      "               <tr>\n",
      "                =20\n",
      "                <td align='3D\"right\"' width='3D\"15%\"'>\n",
      "                 <b>\n",
      "                  <font ==\"\" size='3D\"2\"'>\n",
      "                   Name:\n",
      "                  </font>\n",
      "                 </b>\n",
      "                </td>\n",
      "                <td colspan='3D\"3\"'>\n",
      "                 <input ==\"\" name='3D\"contactname\"' size='3D\"50\"' type='3D\"text\"'/>\n",
      "                </td>\n",
      "                <td ==\"\" align='3D\"center\"' rowspan='3D\"5\"' valign='3D\"middle\"'>\n",
      "                 <img ==\"\" height='3D\"50\"' src='3D\"http://iiq.us/images/q3.gif\"' width='3D\"43\"'/>\n",
      "                </td>\n",
      "               </tr>\n",
      "               <tr>\n",
      "                =20\n",
      "                <td align='3D\"right\"' width='3D\"15%\"'>\n",
      "                 <b>\n",
      "                  <font ==\"\" size='3D\"2\"'>\n",
      "                   E-mail:\n",
      "                  </font>\n",
      "                 </b>\n",
      "                </td>\n",
      "                <td colspan='3D\"3\"'>\n",
      "                 <input ==\"\" name='3D\"email\"' size='3D\"50\"' type='3D\"text\"'/>\n",
      "                </td>\n",
      "               </tr>\n",
      "               <tr>\n",
      "                =20\n",
      "                <td align='3D\"right\"' width='3D\"15%\"'>\n",
      "                 <b>\n",
      "                  <font ==\"\" size='3D\"2\"'>\n",
      "                   Phone:\n",
      "                  </font>\n",
      "                 </b>\n",
      "                </td>\n",
      "                <td colspan='3D\"3\"'>\n",
      "                 <input ==\"\" name='3D\"phone\"' size='3D\"50\"' type='3D\"text\"'/>\n",
      "                </td>\n",
      "               </tr>\n",
      "               <tr>\n",
      "                =20\n",
      "                <td align='3D\"right\"' width='3D\"15%\"'>\n",
      "                 <b>\n",
      "                  <font ==\"\" size='3D\"2\"'>\n",
      "                   City:\n",
      "                  </font>\n",
      "                 </b>\n",
      "                </td>\n",
      "                <td width='3D\"30%\"'>\n",
      "                 <input ==\"\" name='3D\"city\"' size='3D\"20\"' type='3D\"text\"'/>\n",
      "                </td>\n",
      "                <td align='3D\"right\"' width='3D\"15%\"'>\n",
      "                 <b>\n",
      "                  <font ==\"\" size='3D\"2\"'>\n",
      "                   State:\n",
      "                  </font>\n",
      "                 </b>\n",
      "                </td>\n",
      "                <td width='3D\"20%\"'>\n",
      "                 <input ==\"\" name='3D\"state\"' size='3D\"2\"' type='3D\"text\"'/>\n",
      "                </td>\n",
      "               </tr>\n",
      "               <tr>\n",
      "                =20\n",
      "                <td align='3D\"right\"' width='3D\"15%\"'>\n",
      "                </td>\n",
      "                <td colspan=\"3D'3'\" width='3D\"30%\"'>\n",
      "                 =20\n",
      "                 <input ==\"\" name='3D\"btnsubmit\"' type='3D\"submit\"' value='3D\"Submit\"'/>\n",
      "                 <input ==\"\" name='3D\"hdnRecipientTxt\"' type='3D\"hidden\"' value='3D\"rhock@pmgsecurities.com\"'/>\n",
      "                 <input ==\"\" ad=\"\" dare=\"\" inquiry\"=\"\" name='3D\"hdnSubjectTxt\"' type='3D\"hidden\"' value='3D\"PMG'/>\n",
      "                </td>\n",
      "               </tr>\n",
      "              </table>\n",
      "             </td>\n",
      "             <input name=\"3D'SentTo'\" type=\"3D'hidden'\" value=\"3D'304704'\"/>\n",
      "            </form>\n",
      "           </tr>\n",
      "          </table>\n",
      "          <b>\n",
      "           <font size='3D\"2\"'>\n",
      "            <img ==\"\" alt='3D\"PMG' financial='Services\"' height='3D\"142\"' src='3D\"http://iiq.us/images/pmg/20020822-4.gif\"' width='3D\"416\"'/>\n",
      "            =20\n",
      "           </font>\n",
      "          </b>\n",
      "         </td>\n",
      "        </tr>\n",
      "        <tr>\n",
      "         =20\n",
      "         <td>\n",
      "          <font size='3D\"1\"'>\n",
      "           *5.40% for deposits of $100,000 and up, =\n",
      "\n",
      "5.25% interest for deposits totalling $25,000-$99,999.\n",
      "          </font>\n",
      "         </td>\n",
      "        </tr>\n",
      "       </table>\n",
      "      </td>\n",
      "     </tr>\n",
      "     <tr>\n",
      "      =20\n",
      "      <td align='3D\"center\"' bgcolor='3D\"#cccccc\"' width='3D\"100%\"'>\n",
      "       <p>\n",
      "        <font face='3D\"Arial,' helvetica,=\"\" sans-serif\"=\"\" size='3D\"1\"'>\n",
      "         We=20\n",
      "\n",
      "\t\t\tdon't want anyone to receive our mailings who does not=20\n",
      "\n",
      "\t\t\twish to receive them. This is a professional communication=20\n",
      "\n",
      "\t\t\tsent to insurance professionals. To be removed from this mailing=20\n",
      "\n",
      "\t\t\tlist,\n",
      "         <b>\n",
      "          DO NOT REPLY\n",
      "         </b>\n",
      "         to this message. Instead, go here:\n",
      "         <a ==\"\" href='3D\"http://www.insuranceiq.com/optout/\"'>\n",
      "          =20\n",
      "\n",
      "\t\t\thttp://www.insuranceiq.com/optout\n",
      "         </a>\n",
      "        </font>\n",
      "       </p>\n",
      "      </td>\n",
      "     </tr>\n",
      "    </table>\n",
      "    <center>\n",
      "     <a href='3D\"http://www.insiq.com/legal.htm\"'>\n",
      "      <font ==\"\" face='3D\"Arial,' helvetica,=\"\" sans-serif\"=\"\" size='3D\"1\"'>\n",
      "       Legal Notice\n",
      "      </font>\n",
      "     </a>\n",
      "     =20\n",
      "    </center>\n",
      "   </font>\n",
      "  </body>\n",
      " </html>\n",
      " ------=_NextPart_000_1CDC19_01C25366.4B57F3A0--\n",
      "</http:>\n",
      "\n"
     ]
    }
   ],
   "source": [
    "soup = BeautifulSoup(data.at[2, 'MESSAGE'], 'html.parser')\n",
    "print(soup.prettify())"
   ]
  },
  {
   "cell_type": "code",
   "execution_count": 53,
   "metadata": {},
   "outputs": [
    {
     "name": "stdout",
     "output_type": "stream",
     "text": [
      "This is a multi-part message in MIME format.\n",
      "\n",
      "\n",
      "\n",
      "------=_NextPart_000_1CDC19_01C25366.4B57F3A0\n",
      "\n",
      "Content-Type: text/plain;\n",
      "\n",
      "\tcharset=\"Windows-1252\"\n",
      "\n",
      "Content-Transfer-Encoding: quoted-printable\n",
      "\n",
      "\n",
      "\n",
      " We dare you...\n",
      "\n",
      " Try to find a better annuity!\n",
      "\n",
      "=20\n",
      "\n",
      "  - 5.40% Guaranteed for 6 Years=0A=\n",
      "\n",
      "- 6 Year Surrender Charge=0A=\n",
      "\n",
      "- 5% Agent\n",
      "\n",
      "Commission up to age 80=09\n",
      "\n",
      "Call today for more information!\n",
      "\n",
      " 800-888-7641 ext. 103\n",
      "\n",
      "- or -\n",
      "\n",
      "\n",
      "\n",
      "Please fill out the form below for more information\t=20\n",
      "\n",
      "Name:\t \t  =09\n",
      "\n",
      "E-mail:\t \t=20\n",
      "\n",
      "Phone:\t \t=20\n",
      "\n",
      "City:\t \t State:\t \t=20\n",
      "\n",
      " \t    =09\n",
      "\n",
      "=20\n",
      "\n",
      " PMG Financial Services\n",
      "\n",
      "*5.40% for deposits of $100,000 and up, 5.25% interest for deposits\n",
      "\n",
      "totalling $25,000-$99,999.\t=20\n",
      "\n",
      "We don't want anyone to receive our mailings who does not wish to\n",
      "\n",
      "receive them. This is a professional communication sent to insurance\n",
      "\n",
      "professionals. To be removed from this mailing list, DO NOT REPLY to\n",
      "\n",
      "this message. Instead, go here: http://www.insuranceiq.com/optout\n",
      "\n",
      "=20\n",
      "\n",
      "\n",
      "\n",
      "Legal Notice =20\n",
      "\n",
      "\n",
      "\n",
      "------=_NextPart_000_1CDC19_01C25366.4B57F3A0\n",
      "\n",
      "Content-Type: text/html;\n",
      "\n",
      "\tcharset=\"iso-8859-1\"\n",
      "\n",
      "Content-Transfer-Encoding: quoted-printable\n",
      "\n",
      "\n",
      "\n",
      "\n",
      "\n",
      "We Dare You to Find a Better Annuity\n",
      "\n",
      "\n",
      "\n",
      "=20\n",
      "\n",
      "\n",
      "=20\n",
      "\n",
      "    \n",
      "\n",
      "\n",
      "=20\n",
      "\n",
      "      \n",
      "=20\n",
      "\n",
      "          \n",
      "\n",
      "=20\n",
      "\n",
      "          \n",
      "Call today for more information!\n",
      "\n",
      "\n",
      "            - or -\n",
      "\n",
      "=20\n",
      "\n",
      "                \n",
      "=20\n",
      "\n",
      "                    \n",
      "=20\n",
      "\n",
      "                        Please fill out the form below for more =\n",
      "\n",
      "information\n",
      "\n",
      "=20\n",
      "\n",
      "                        Name:\n",
      "\n",
      "\n",
      "\n",
      "=20\n",
      "\n",
      "                        E-mail:\n",
      "\n",
      "\n",
      "=20\n",
      "\n",
      "                        Phone:\n",
      "\n",
      "\n",
      "=20\n",
      "\n",
      "                        City:\n",
      "\n",
      "State:\n",
      "\n",
      "\n",
      "=20\n",
      "\n",
      "                         \n",
      "=20\n",
      "\n",
      "                          \n",
      "\n",
      "\n",
      "\n",
      "\n",
      "\n",
      "\n",
      "\n",
      "\n",
      "\n",
      "\n",
      "=20\n",
      "\n",
      "            \n",
      "\n",
      "=20\n",
      "\n",
      "          *5.40% for deposits of $100,000 and up, =\n",
      "\n",
      "5.25% interest for deposits totalling $25,000-$99,999.\n",
      "\n",
      "\n",
      "\n",
      "\n",
      "=20\n",
      "\n",
      "    \n",
      "We=20\n",
      "\n",
      "\t\t\tdon't want anyone to receive our mailings who does not=20\n",
      "\n",
      "\t\t\twish to receive them. This is a professional communication=20\n",
      "\n",
      "\t\t\tsent to insurance professionals. To be removed from this mailing=20\n",
      "\n",
      "\t\t\tlist, DO NOT REPLY to this message. Instead, go here: =20\n",
      "\n",
      "\t\t\thttp://www.insuranceiq.com/optout\n",
      "\n",
      "\n",
      "\n",
      "\n",
      "Legal Notice =20\n",
      "\n",
      "\n",
      "\n",
      "\n",
      "\n",
      "\n",
      "\n",
      "\n",
      "------=_NextPart_000_1CDC19_01C25366.4B57F3A0--\n",
      "\n",
      "\n",
      "\n"
     ]
    }
   ],
   "source": [
    "print(soup.get_text())"
   ]
  },
  {
   "cell_type": "markdown",
   "metadata": {},
   "source": [
    "### Defining General Function for Email Processing"
   ]
  },
  {
   "cell_type": "code",
   "execution_count": 54,
   "metadata": {},
   "outputs": [],
   "source": [
    "def clean_message(message, stemmer= PorterStemmer(), stop_words=set(stopwords.words('english'))):\n",
    "    \"\"\" Remove HTML part. Converts the message to lower case and splits up the words. Then removes the stop words and punctuation. \"\"\"\n",
    "\n",
    "    soup = BeautifulSoup(message, 'html.parser')\n",
    "    cleaned_text = soup.get_text()\n",
    "    words = word_tokenize(cleaned_text.lower())\n",
    "\n",
    "    filtered_words = []\n",
    "\n",
    "    for word in words:\n",
    "        if word not in stop_words and word.isalpha():\n",
    "            filtered_words.append(stemmer.stem(word))\n",
    "\n",
    "    return filtered_words"
   ]
  },
  {
   "cell_type": "code",
   "execution_count": 55,
   "metadata": {},
   "outputs": [
    {
     "data": {
      "text/plain": [
       "['messag',\n",
       " 'mime',\n",
       " 'format',\n",
       " 'dare',\n",
       " 'tri',\n",
       " 'find',\n",
       " 'better',\n",
       " 'annuiti',\n",
       " 'guarante',\n",
       " 'year',\n",
       " 'surrend',\n",
       " 'agent',\n",
       " 'commiss',\n",
       " 'age',\n",
       " 'call',\n",
       " 'today',\n",
       " 'inform',\n",
       " 'ext',\n",
       " 'pleas',\n",
       " 'fill',\n",
       " 'form',\n",
       " 'inform',\n",
       " 'name',\n",
       " 'phone',\n",
       " 'citi',\n",
       " 'state',\n",
       " 'pmg',\n",
       " 'financi',\n",
       " 'servic',\n",
       " 'deposit',\n",
       " 'interest',\n",
       " 'deposit',\n",
       " 'total',\n",
       " 'want',\n",
       " 'anyon',\n",
       " 'receiv',\n",
       " 'mail',\n",
       " 'wish',\n",
       " 'receiv',\n",
       " 'profession',\n",
       " 'commun',\n",
       " 'sent',\n",
       " 'insur',\n",
       " 'profession',\n",
       " 'remov',\n",
       " 'mail',\n",
       " 'list',\n",
       " 'repli',\n",
       " 'messag',\n",
       " 'instead',\n",
       " 'go',\n",
       " 'http',\n",
       " 'legal',\n",
       " 'notic',\n",
       " 'dare',\n",
       " 'find',\n",
       " 'better',\n",
       " 'annuiti',\n",
       " 'call',\n",
       " 'today',\n",
       " 'inform',\n",
       " 'pleas',\n",
       " 'fill',\n",
       " 'form',\n",
       " 'inform',\n",
       " 'name',\n",
       " 'phone',\n",
       " 'citi',\n",
       " 'state',\n",
       " 'deposit',\n",
       " 'interest',\n",
       " 'deposit',\n",
       " 'total',\n",
       " 'want',\n",
       " 'anyon',\n",
       " 'receiv',\n",
       " 'mail',\n",
       " 'wish',\n",
       " 'receiv',\n",
       " 'profession',\n",
       " 'sent',\n",
       " 'insur',\n",
       " 'profession',\n",
       " 'remov',\n",
       " 'list',\n",
       " 'repli',\n",
       " 'messag',\n",
       " 'instead',\n",
       " 'go',\n",
       " 'http',\n",
       " 'legal',\n",
       " 'notic']"
      ]
     },
     "execution_count": 55,
     "metadata": {},
     "output_type": "execute_result"
    }
   ],
   "source": [
    "clean_message(data.at[2,'MESSAGE'])"
   ]
  },
  {
   "cell_type": "code",
   "execution_count": 56,
   "metadata": {},
   "outputs": [
    {
     "name": "stderr",
     "output_type": "stream",
     "text": [
      "/var/folders/0v/n3w11jxs0zxdx0ty34xv_fx40000gn/T/ipykernel_1089/2944835805.py:4: MarkupResemblesLocatorWarning: The input looks more like a filename than markup. You may want to open this file and pass the filehandle into Beautiful Soup.\n",
      "  soup = BeautifulSoup(message, 'html.parser')\n",
      "/var/folders/0v/n3w11jxs0zxdx0ty34xv_fx40000gn/T/ipykernel_1089/2944835805.py:4: MarkupResemblesLocatorWarning: The input looks more like a URL than markup. You may want to use an HTTP client like requests to get the document behind the URL, and feed that document to Beautiful Soup.\n",
      "  soup = BeautifulSoup(message, 'html.parser')\n"
     ]
    }
   ],
   "source": [
    "nested_list = data.MESSAGE.apply(clean_message) #apply our function on all the messages in the dataframe"
   ]
  },
  {
   "cell_type": "code",
   "execution_count": 57,
   "metadata": {},
   "outputs": [
    {
     "data": {
      "text/plain": [
       "DOC_ID\n",
       "5791    [one, work, well, week, te, updat, server, syn...\n",
       "5792    [damien, morton, quot, approv, html, abl, say,...\n",
       "5793    [mon, che, wrote, that, correct, line, ad, rep...\n",
       "5794    [upon, time, manfr, wrote, would, like, instal...\n",
       "5795    [run, pick, use, new, ftoc, button, show, mess...\n",
       "Name: MESSAGE, dtype: object"
      ]
     },
     "execution_count": 57,
     "metadata": {},
     "output_type": "execute_result"
    }
   ],
   "source": [
    "nested_list.tail()"
   ]
  },
  {
   "cell_type": "code",
   "execution_count": 66,
   "metadata": {},
   "outputs": [],
   "source": [
    "doc_ids_spam = data[data.CATEGORY == 1].index\n",
    "doc_ids_ham =  data[data.CATEGORY == 0].index"
   ]
  },
  {
   "cell_type": "code",
   "execution_count": 68,
   "metadata": {},
   "outputs": [
    {
     "data": {
      "text/plain": [
       "(3900,)"
      ]
     },
     "execution_count": 68,
     "metadata": {},
     "output_type": "execute_result"
    }
   ],
   "source": [
    "nested_list_ham = nested_list.loc[doc_ids_ham]\n",
    "nested_list_ham.shape\n"
   ]
  },
  {
   "cell_type": "code",
   "execution_count": 69,
   "metadata": {},
   "outputs": [
    {
     "data": {
      "text/plain": [
       "(1896,)"
      ]
     },
     "execution_count": 69,
     "metadata": {},
     "output_type": "execute_result"
    }
   ],
   "source": [
    "nested_list_spam = nested_list.loc[doc_ids_spam]\n",
    "nested_list_spam.shape"
   ]
  },
  {
   "cell_type": "code",
   "execution_count": 70,
   "metadata": {},
   "outputs": [
    {
     "data": {
      "text/plain": [
       "20815"
      ]
     },
     "execution_count": 70,
     "metadata": {},
     "output_type": "execute_result"
    }
   ],
   "source": [
    "flat_list_ham = [item for sublist in nested_list_ham for item in sublist]\n",
    "normal_words = pd.Series(flat_list_ham).value_counts()\n",
    "\n",
    "normal_words.shape[0]"
   ]
  },
  {
   "cell_type": "code",
   "execution_count": 71,
   "metadata": {},
   "outputs": [
    {
     "data": {
      "text/plain": [
       "http      7563\n",
       "use       3633\n",
       "list      2880\n",
       "one       2373\n",
       "get       2286\n",
       "mail      2255\n",
       "would     2003\n",
       "like      1931\n",
       "messag    1849\n",
       "work      1800\n",
       "Name: count, dtype: int64"
      ]
     },
     "execution_count": 71,
     "metadata": {},
     "output_type": "execute_result"
    }
   ],
   "source": [
    "normal_words[:10]"
   ]
  },
  {
   "cell_type": "code",
   "execution_count": 72,
   "metadata": {},
   "outputs": [
    {
     "data": {
      "text/plain": [
       "13242"
      ]
     },
     "execution_count": 72,
     "metadata": {},
     "output_type": "execute_result"
    }
   ],
   "source": [
    "flat_list_spam = [item for sublist in nested_list_spam for item in sublist]\n",
    "spam_words = pd.Series(flat_list_spam).value_counts()\n",
    "\n",
    "spam_words.shape[0]"
   ]
  },
  {
   "cell_type": "code",
   "execution_count": 73,
   "metadata": {},
   "outputs": [
    {
     "data": {
      "text/plain": [
       "http      3097\n",
       "email     3090\n",
       "free      2585\n",
       "click     2058\n",
       "receiv    1989\n",
       "list      1971\n",
       "get       1914\n",
       "pleas     1852\n",
       "busi      1792\n",
       "order     1746\n",
       "Name: count, dtype: int64"
      ]
     },
     "execution_count": 73,
     "metadata": {},
     "output_type": "execute_result"
    }
   ],
   "source": [
    "spam_words[:10]"
   ]
  },
  {
   "cell_type": "code",
   "execution_count": 83,
   "metadata": {},
   "outputs": [
    {
     "data": {
      "image/png": "[encoded data removed]",
      "text/plain": [
       "<Figure size 1600x800 with 1 Axes>"
      ]
     },
     "metadata": {},
     "output_type": "display_data"
    }
   ],
   "source": [
    "icon = Image.open(thums_up_file)\n",
    "image_mask = Image.new(mode='RGB', size=icon.size, color=(255,255,255))\n",
    "image_mask.paste(icon, box=icon)\n",
    "\n",
    "rgb_array = np.array(image_mask) #converts the image object to an array\n",
    "\n",
    "ham_str = ' '.join(flat_list_ham)\n",
    "\n",
    "word_cloud = WordCloud(mask=rgb_array, background_color='white', max_words=400, colormap='winter')\n",
    "\n",
    "word_cloud.generate(ham_str)\n",
    "\n",
    "\n",
    "plt.figure(figsize=[16,8])\n",
    "plt.imshow(word_cloud, interpolation='bilinear')\n",
    "plt.axis('off')\n",
    "plt.show()"
   ]
  },
  {
   "cell_type": "code",
   "execution_count": 86,
   "metadata": {},
   "outputs": [
    {
     "data": {
      "image/png": "[encoded data removed]",
      "text/plain": [
       "<Figure size 640x480 with 1 Axes>"
      ]
     },
     "metadata": {},
     "output_type": "display_data"
    }
   ],
   "source": [
    "icon = Image.open(thums_down_file)\n",
    "image_mask = Image.new(mode='RGB', size=icon.size, color=(255,255,255))\n",
    "image_mask.paste(icon, box=icon)\n",
    "\n",
    "rgb_array = np.array(image_mask) #converts the image object to an array\n",
    "\n",
    "spam_str = ' '.join(flat_list_spam)\n",
    "\n",
    "word_cloud = WordCloud(mask=rgb_array, background_color='white', max_words=400, colormap='gist_heat')\n",
    "\n",
    "word_cloud.generate(spam_str)\n",
    "\n",
    "\n",
    "plt.figure(figsize=[16,8])\n",
    "plt.imshow(word_cloud, interpolation='bilinear')\n",
    "plt.axis('off')\n",
    "plt.show()"
   ]
  },
  {
   "cell_type": "markdown",
   "metadata": {},
   "source": [
    "### Generate Vocabulary & Dictionary\n",
    "\n",
    "2500 most frequent words in our dataset are going to form our vocabulary."
   ]
  },
  {
   "cell_type": "code",
   "execution_count": 87,
   "metadata": {},
   "outputs": [
    {
     "name": "stderr",
     "output_type": "stream",
     "text": [
      "/var/folders/0v/n3w11jxs0zxdx0ty34xv_fx40000gn/T/ipykernel_1089/2944835805.py:4: MarkupResemblesLocatorWarning: The input looks more like a filename than markup. You may want to open this file and pass the filehandle into Beautiful Soup.\n",
      "  soup = BeautifulSoup(message, 'html.parser')\n",
      "/var/folders/0v/n3w11jxs0zxdx0ty34xv_fx40000gn/T/ipykernel_1089/2944835805.py:4: MarkupResemblesLocatorWarning: The input looks more like a URL than markup. You may want to use an HTTP client like requests to get the document behind the URL, and feed that document to Beautiful Soup.\n",
      "  soup = BeautifulSoup(message, 'html.parser')\n"
     ]
    }
   ],
   "source": [
    "stemmed_nested_list = data.MESSAGE.apply(clean_message)\n",
    "\n",
    "flat_stemmed_list = [item for sublist in stemmed_nested_list for item in sublist]"
   ]
  },
  {
   "cell_type": "code",
   "execution_count": 88,
   "metadata": {},
   "outputs": [
    {
     "name": "stdout",
     "output_type": "stream",
     "text": [
      "Nr of Unique Words: 27334\n"
     ]
    },
    {
     "data": {
      "text/plain": [
       "http     10660\n",
       "use       5019\n",
       "list      4851\n",
       "email     4367\n",
       "get       4200\n",
       "Name: count, dtype: int64"
      ]
     },
     "execution_count": 88,
     "metadata": {},
     "output_type": "execute_result"
    }
   ],
   "source": [
    "unique_words = pd.Series(flat_stemmed_list).value_counts()\n",
    "print('Nr of Unique Words:', unique_words.shape[0])\n",
    "unique_words.head()"
   ]
  },
  {
   "cell_type": "code",
   "execution_count": 91,
   "metadata": {},
   "outputs": [
    {
     "data": {
      "text/plain": [
       "http     10660\n",
       "use       5019\n",
       "list      4851\n",
       "email     4367\n",
       "get       4200\n",
       "mail      3983\n",
       "one       3907\n",
       "free      3202\n",
       "time      3042\n",
       "work      2883\n",
       "Name: count, dtype: int64"
      ]
     },
     "execution_count": 91,
     "metadata": {},
     "output_type": "execute_result"
    }
   ],
   "source": [
    "frequent_words = unique_words[0:vocab_size] # Get the most common 2500 words \n",
    "frequent_words[:10]"
   ]
  },
  {
   "cell_type": "code",
   "execution_count": 92,
   "metadata": {},
   "outputs": [
    {
     "data": {
      "text/html": [
       "<div>\n",
       "<style scoped>\n",
       "    .dataframe tbody tr th:only-of-type {\n",
       "        vertical-align: middle;\n",
       "    }\n",
       "\n",
       "    .dataframe tbody tr th {\n",
       "        vertical-align: top;\n",
       "    }\n",
       "\n",
       "    .dataframe thead th {\n",
       "        text-align: right;\n",
       "    }\n",
       "</style>\n",
       "<table border=\"1\" class=\"dataframe\">\n",
       "  <thead>\n",
       "    <tr style=\"text-align: right;\">\n",
       "      <th></th>\n",
       "      <th>VOCAB_WORD</th>\n",
       "    </tr>\n",
       "    <tr>\n",
       "      <th>WORD_ID</th>\n",
       "      <th></th>\n",
       "    </tr>\n",
       "  </thead>\n",
       "  <tbody>\n",
       "    <tr>\n",
       "      <th>0</th>\n",
       "      <td>http</td>\n",
       "    </tr>\n",
       "    <tr>\n",
       "      <th>1</th>\n",
       "      <td>use</td>\n",
       "    </tr>\n",
       "    <tr>\n",
       "      <th>2</th>\n",
       "      <td>list</td>\n",
       "    </tr>\n",
       "    <tr>\n",
       "      <th>3</th>\n",
       "      <td>email</td>\n",
       "    </tr>\n",
       "    <tr>\n",
       "      <th>4</th>\n",
       "      <td>get</td>\n",
       "    </tr>\n",
       "  </tbody>\n",
       "</table>\n",
       "</div>"
      ],
      "text/plain": [
       "        VOCAB_WORD\n",
       "WORD_ID           \n",
       "0             http\n",
       "1              use\n",
       "2             list\n",
       "3            email\n",
       "4              get"
      ]
     },
     "execution_count": 92,
     "metadata": {},
     "output_type": "execute_result"
    }
   ],
   "source": [
    "word_ids = list(range(0,vocab_size))\n",
    "\n",
    "vocab = pd.DataFrame({'VOCAB_WORD': frequent_words.index.values}, index=word_ids)\n",
    "vocab.index.name = 'WORD_ID'\n",
    "vocab.head()"
   ]
  },
  {
   "cell_type": "markdown",
   "metadata": {},
   "source": [
    "Save the Vocab as a CSV File"
   ]
  },
  {
   "cell_type": "code",
   "execution_count": 94,
   "metadata": {},
   "outputs": [],
   "source": [
    "vocab.to_csv(word_id_file, index_label=vocab.index.name, header=vocab.VOCAB_WORD.name)"
   ]
  },
  {
   "cell_type": "markdown",
   "metadata": {},
   "source": [
    "# Split Train and Test"
   ]
  },
  {
   "cell_type": "code",
   "execution_count": 96,
   "metadata": {},
   "outputs": [
    {
     "data": {
      "text/html": [
       "<div>\n",
       "<style scoped>\n",
       "    .dataframe tbody tr th:only-of-type {\n",
       "        vertical-align: middle;\n",
       "    }\n",
       "\n",
       "    .dataframe tbody tr th {\n",
       "        vertical-align: top;\n",
       "    }\n",
       "\n",
       "    .dataframe thead th {\n",
       "        text-align: right;\n",
       "    }\n",
       "</style>\n",
       "<table border=\"1\" class=\"dataframe\">\n",
       "  <thead>\n",
       "    <tr style=\"text-align: right;\">\n",
       "      <th></th>\n",
       "      <th>0</th>\n",
       "      <th>1</th>\n",
       "      <th>2</th>\n",
       "      <th>3</th>\n",
       "      <th>4</th>\n",
       "      <th>5</th>\n",
       "      <th>6</th>\n",
       "      <th>7</th>\n",
       "      <th>8</th>\n",
       "      <th>9</th>\n",
       "      <th>...</th>\n",
       "      <th>7661</th>\n",
       "      <th>7662</th>\n",
       "      <th>7663</th>\n",
       "      <th>7664</th>\n",
       "      <th>7665</th>\n",
       "      <th>7666</th>\n",
       "      <th>7667</th>\n",
       "      <th>7668</th>\n",
       "      <th>7669</th>\n",
       "      <th>7670</th>\n",
       "    </tr>\n",
       "  </thead>\n",
       "  <tbody>\n",
       "    <tr>\n",
       "      <th>0</th>\n",
       "      <td>dear</td>\n",
       "      <td>homeown</td>\n",
       "      <td>interest</td>\n",
       "      <td>rate</td>\n",
       "      <td>lowest</td>\n",
       "      <td>point</td>\n",
       "      <td>year</td>\n",
       "      <td>help</td>\n",
       "      <td>find</td>\n",
       "      <td>best</td>\n",
       "      <td>...</td>\n",
       "      <td>None</td>\n",
       "      <td>None</td>\n",
       "      <td>None</td>\n",
       "      <td>None</td>\n",
       "      <td>None</td>\n",
       "      <td>None</td>\n",
       "      <td>None</td>\n",
       "      <td>None</td>\n",
       "      <td>None</td>\n",
       "      <td>None</td>\n",
       "    </tr>\n",
       "    <tr>\n",
       "      <th>1</th>\n",
       "      <td>attent</td>\n",
       "      <td>must</td>\n",
       "      <td>comput</td>\n",
       "      <td>user</td>\n",
       "      <td>packag</td>\n",
       "      <td>deal</td>\n",
       "      <td>norton</td>\n",
       "      <td>systemwork</td>\n",
       "      <td>softwar</td>\n",
       "      <td>suit</td>\n",
       "      <td>...</td>\n",
       "      <td>None</td>\n",
       "      <td>None</td>\n",
       "      <td>None</td>\n",
       "      <td>None</td>\n",
       "      <td>None</td>\n",
       "      <td>None</td>\n",
       "      <td>None</td>\n",
       "      <td>None</td>\n",
       "      <td>None</td>\n",
       "      <td>None</td>\n",
       "    </tr>\n",
       "    <tr>\n",
       "      <th>2</th>\n",
       "      <td>messag</td>\n",
       "      <td>mime</td>\n",
       "      <td>format</td>\n",
       "      <td>dare</td>\n",
       "      <td>tri</td>\n",
       "      <td>find</td>\n",
       "      <td>better</td>\n",
       "      <td>annuiti</td>\n",
       "      <td>guarante</td>\n",
       "      <td>year</td>\n",
       "      <td>...</td>\n",
       "      <td>None</td>\n",
       "      <td>None</td>\n",
       "      <td>None</td>\n",
       "      <td>None</td>\n",
       "      <td>None</td>\n",
       "      <td>None</td>\n",
       "      <td>None</td>\n",
       "      <td>None</td>\n",
       "      <td>None</td>\n",
       "      <td>None</td>\n",
       "    </tr>\n",
       "    <tr>\n",
       "      <th>3</th>\n",
       "      <td>import</td>\n",
       "      <td>inform</td>\n",
       "      <td>new</td>\n",
       "      <td>domain</td>\n",
       "      <td>name</td>\n",
       "      <td>final</td>\n",
       "      <td>avail</td>\n",
       "      <td>gener</td>\n",
       "      <td>public</td>\n",
       "      <td>discount</td>\n",
       "      <td>...</td>\n",
       "      <td>None</td>\n",
       "      <td>None</td>\n",
       "      <td>None</td>\n",
       "      <td>None</td>\n",
       "      <td>None</td>\n",
       "      <td>None</td>\n",
       "      <td>None</td>\n",
       "      <td>None</td>\n",
       "      <td>None</td>\n",
       "      <td>None</td>\n",
       "    </tr>\n",
       "    <tr>\n",
       "      <th>4</th>\n",
       "      <td>bottom</td>\n",
       "      <td>line</td>\n",
       "      <td>give</td>\n",
       "      <td>away</td>\n",
       "      <td>cd</td>\n",
       "      <td>free</td>\n",
       "      <td>peopl</td>\n",
       "      <td>like</td>\n",
       "      <td>one</td>\n",
       "      <td>month</td>\n",
       "      <td>...</td>\n",
       "      <td>None</td>\n",
       "      <td>None</td>\n",
       "      <td>None</td>\n",
       "      <td>None</td>\n",
       "      <td>None</td>\n",
       "      <td>None</td>\n",
       "      <td>None</td>\n",
       "      <td>None</td>\n",
       "      <td>None</td>\n",
       "      <td>None</td>\n",
       "    </tr>\n",
       "  </tbody>\n",
       "</table>\n",
       "<p>5 rows × 7671 columns</p>\n",
       "</div>"
      ],
      "text/plain": [
       "     0        1         2       3       4      5       6           7     \\\n",
       "0    dear  homeown  interest    rate  lowest  point    year        help   \n",
       "1  attent     must    comput    user  packag   deal  norton  systemwork   \n",
       "2  messag     mime    format    dare     tri   find  better     annuiti   \n",
       "3  import   inform       new  domain    name  final   avail       gener   \n",
       "4  bottom     line      give    away      cd   free   peopl        like   \n",
       "\n",
       "       8         9     ...  7661  7662  7663  7664  7665  7666  7667  7668  \\\n",
       "0      find      best  ...  None  None  None  None  None  None  None  None   \n",
       "1   softwar      suit  ...  None  None  None  None  None  None  None  None   \n",
       "2  guarante      year  ...  None  None  None  None  None  None  None  None   \n",
       "3    public  discount  ...  None  None  None  None  None  None  None  None   \n",
       "4       one     month  ...  None  None  None  None  None  None  None  None   \n",
       "\n",
       "   7669  7670  \n",
       "0  None  None  \n",
       "1  None  None  \n",
       "2  None  None  \n",
       "3  None  None  \n",
       "4  None  None  \n",
       "\n",
       "[5 rows x 7671 columns]"
      ]
     },
     "execution_count": 96,
     "metadata": {},
     "output_type": "execute_result"
    }
   ],
   "source": [
    "word_columns_df = pd.DataFrame.from_records(stemmed_nested_list.tolist())\n",
    "word_columns_df.head()"
   ]
  },
  {
   "cell_type": "code",
   "execution_count": 98,
   "metadata": {},
   "outputs": [
    {
     "data": {
      "text/plain": [
       "(5796, 7671)"
      ]
     },
     "execution_count": 98,
     "metadata": {},
     "output_type": "execute_result"
    }
   ],
   "source": [
    "word_columns_df.shape  #7671 is the nr. of words in the longest email"
   ]
  },
  {
   "cell_type": "code",
   "execution_count": 103,
   "metadata": {},
   "outputs": [],
   "source": [
    "X_train, X_test, y_train, y_test = train_test_split(word_columns_df, data.CATEGORY, test_size=0.3, random_state=42)"
   ]
  },
  {
   "cell_type": "code",
   "execution_count": 107,
   "metadata": {},
   "outputs": [
    {
     "name": "stdout",
     "output_type": "stream",
     "text": [
      "Nr of training samples: 4057\n",
      "Fraction of training set 0.6999654934437544\n"
     ]
    }
   ],
   "source": [
    "print('Nr of training samples:', X_train.shape[0])\n",
    "print('Fraction of training set', X_train.shape[0] / word_columns_df.shape[0])"
   ]
  },
  {
   "cell_type": "code",
   "execution_count": 108,
   "metadata": {},
   "outputs": [
    {
     "data": {
      "text/html": [
       "<div>\n",
       "<style scoped>\n",
       "    .dataframe tbody tr th:only-of-type {\n",
       "        vertical-align: middle;\n",
       "    }\n",
       "\n",
       "    .dataframe tbody tr th {\n",
       "        vertical-align: top;\n",
       "    }\n",
       "\n",
       "    .dataframe thead th {\n",
       "        text-align: right;\n",
       "    }\n",
       "</style>\n",
       "<table border=\"1\" class=\"dataframe\">\n",
       "  <thead>\n",
       "    <tr style=\"text-align: right;\">\n",
       "      <th></th>\n",
       "      <th>0</th>\n",
       "      <th>1</th>\n",
       "      <th>2</th>\n",
       "      <th>3</th>\n",
       "      <th>4</th>\n",
       "      <th>5</th>\n",
       "      <th>6</th>\n",
       "      <th>7</th>\n",
       "      <th>8</th>\n",
       "      <th>9</th>\n",
       "      <th>...</th>\n",
       "      <th>7661</th>\n",
       "      <th>7662</th>\n",
       "      <th>7663</th>\n",
       "      <th>7664</th>\n",
       "      <th>7665</th>\n",
       "      <th>7666</th>\n",
       "      <th>7667</th>\n",
       "      <th>7668</th>\n",
       "      <th>7669</th>\n",
       "      <th>7670</th>\n",
       "    </tr>\n",
       "    <tr>\n",
       "      <th>DOC_ID</th>\n",
       "      <th></th>\n",
       "      <th></th>\n",
       "      <th></th>\n",
       "      <th></th>\n",
       "      <th></th>\n",
       "      <th></th>\n",
       "      <th></th>\n",
       "      <th></th>\n",
       "      <th></th>\n",
       "      <th></th>\n",
       "      <th></th>\n",
       "      <th></th>\n",
       "      <th></th>\n",
       "      <th></th>\n",
       "      <th></th>\n",
       "      <th></th>\n",
       "      <th></th>\n",
       "      <th></th>\n",
       "      <th></th>\n",
       "      <th></th>\n",
       "      <th></th>\n",
       "    </tr>\n",
       "  </thead>\n",
       "  <tbody>\n",
       "    <tr>\n",
       "      <th>4844</th>\n",
       "      <td>thu</td>\n",
       "      <td>jul</td>\n",
       "      <td>rodent</td>\n",
       "      <td>unusu</td>\n",
       "      <td>size</td>\n",
       "      <td>wrote</td>\n",
       "      <td>appli</td>\n",
       "      <td>one</td>\n",
       "      <td>three</td>\n",
       "      <td>order</td>\n",
       "      <td>...</td>\n",
       "      <td>None</td>\n",
       "      <td>None</td>\n",
       "      <td>None</td>\n",
       "      <td>None</td>\n",
       "      <td>None</td>\n",
       "      <td>None</td>\n",
       "      <td>None</td>\n",
       "      <td>None</td>\n",
       "      <td>None</td>\n",
       "      <td>None</td>\n",
       "    </tr>\n",
       "    <tr>\n",
       "      <th>4727</th>\n",
       "      <td>well</td>\n",
       "      <td>would</td>\n",
       "      <td>vaniti</td>\n",
       "      <td>list</td>\n",
       "      <td>forward</td>\n",
       "      <td>least</td>\n",
       "      <td>littl</td>\n",
       "      <td>pure</td>\n",
       "      <td>data</td>\n",
       "      <td>week</td>\n",
       "      <td>...</td>\n",
       "      <td>None</td>\n",
       "      <td>None</td>\n",
       "      <td>None</td>\n",
       "      <td>None</td>\n",
       "      <td>None</td>\n",
       "      <td>None</td>\n",
       "      <td>None</td>\n",
       "      <td>None</td>\n",
       "      <td>None</td>\n",
       "      <td>None</td>\n",
       "    </tr>\n",
       "    <tr>\n",
       "      <th>5022</th>\n",
       "      <td>world</td>\n",
       "      <td>wide</td>\n",
       "      <td>word</td>\n",
       "      <td>issu</td>\n",
       "      <td>saturday</td>\n",
       "      <td>august</td>\n",
       "      <td>sent</td>\n",
       "      <td>saturday</td>\n",
       "      <td>subscrib</td>\n",
       "      <td>least</td>\n",
       "      <td>...</td>\n",
       "      <td>None</td>\n",
       "      <td>None</td>\n",
       "      <td>None</td>\n",
       "      <td>None</td>\n",
       "      <td>None</td>\n",
       "      <td>None</td>\n",
       "      <td>None</td>\n",
       "      <td>None</td>\n",
       "      <td>None</td>\n",
       "      <td>None</td>\n",
       "    </tr>\n",
       "    <tr>\n",
       "      <th>3504</th>\n",
       "      <td>believ</td>\n",
       "      <td>spamassassin</td>\n",
       "      <td>maintain</td>\n",
       "      <td>scheme</td>\n",
       "      <td>wherebi</td>\n",
       "      <td>corpu</td>\n",
       "      <td>distribut</td>\n",
       "      <td>ie</td>\n",
       "      <td>sever</td>\n",
       "      <td>peopl</td>\n",
       "      <td>...</td>\n",
       "      <td>None</td>\n",
       "      <td>None</td>\n",
       "      <td>None</td>\n",
       "      <td>None</td>\n",
       "      <td>None</td>\n",
       "      <td>None</td>\n",
       "      <td>None</td>\n",
       "      <td>None</td>\n",
       "      <td>None</td>\n",
       "      <td>None</td>\n",
       "    </tr>\n",
       "    <tr>\n",
       "      <th>3921</th>\n",
       "      <td>sorri</td>\n",
       "      <td>think</td>\n",
       "      <td>send</td>\n",
       "      <td>realiz</td>\n",
       "      <td>list</td>\n",
       "      <td>sender</td>\n",
       "      <td>usual</td>\n",
       "      <td>anyawi</td>\n",
       "      <td>ask</td>\n",
       "      <td>harri</td>\n",
       "      <td>...</td>\n",
       "      <td>None</td>\n",
       "      <td>None</td>\n",
       "      <td>None</td>\n",
       "      <td>None</td>\n",
       "      <td>None</td>\n",
       "      <td>None</td>\n",
       "      <td>None</td>\n",
       "      <td>None</td>\n",
       "      <td>None</td>\n",
       "      <td>None</td>\n",
       "    </tr>\n",
       "  </tbody>\n",
       "</table>\n",
       "<p>5 rows × 7671 columns</p>\n",
       "</div>"
      ],
      "text/plain": [
       "          0             1         2       3         4       5          6     \\\n",
       "DOC_ID                                                                        \n",
       "4844       thu           jul    rodent   unusu      size   wrote      appli   \n",
       "4727      well         would    vaniti    list   forward   least      littl   \n",
       "5022     world          wide      word    issu  saturday  august       sent   \n",
       "3504    believ  spamassassin  maintain  scheme   wherebi   corpu  distribut   \n",
       "3921     sorri         think      send  realiz      list  sender      usual   \n",
       "\n",
       "            7         8      9     ...  7661  7662  7663  7664  7665  7666  \\\n",
       "DOC_ID                             ...                                       \n",
       "4844         one     three  order  ...  None  None  None  None  None  None   \n",
       "4727        pure      data   week  ...  None  None  None  None  None  None   \n",
       "5022    saturday  subscrib  least  ...  None  None  None  None  None  None   \n",
       "3504          ie     sever  peopl  ...  None  None  None  None  None  None   \n",
       "3921      anyawi       ask  harri  ...  None  None  None  None  None  None   \n",
       "\n",
       "        7667  7668  7669  7670  \n",
       "DOC_ID                          \n",
       "4844    None  None  None  None  \n",
       "4727    None  None  None  None  \n",
       "5022    None  None  None  None  \n",
       "3504    None  None  None  None  \n",
       "3921    None  None  None  None  \n",
       "\n",
       "[5 rows x 7671 columns]"
      ]
     },
     "execution_count": 108,
     "metadata": {},
     "output_type": "execute_result"
    }
   ],
   "source": [
    "X_train.index.name = X_test.index.name = 'DOC_ID'\n",
    "X_train.head()"
   ]
  },
  {
   "cell_type": "code",
   "execution_count": 109,
   "metadata": {},
   "outputs": [
    {
     "data": {
      "text/plain": [
       "DOC_ID\n",
       "4844    0\n",
       "4727    0\n",
       "5022    0\n",
       "3504    0\n",
       "3921    0\n",
       "Name: CATEGORY, dtype: int64"
      ]
     },
     "execution_count": 109,
     "metadata": {},
     "output_type": "execute_result"
    }
   ],
   "source": [
    "y_train.head()"
   ]
  },
  {
   "cell_type": "markdown",
   "metadata": {},
   "source": [
    "## Sparse Matrix"
   ]
  },
  {
   "cell_type": "code",
   "execution_count": 111,
   "metadata": {},
   "outputs": [],
   "source": [
    "word_index = pd.Index(vocab.VOCAB_WORD)"
   ]
  },
  {
   "cell_type": "code",
   "execution_count": 112,
   "metadata": {},
   "outputs": [
    {
     "data": {
      "text/plain": [
       "393"
      ]
     },
     "execution_count": 112,
     "metadata": {},
     "output_type": "execute_result"
    }
   ],
   "source": [
    "word_index.get_loc('thu')"
   ]
  },
  {
   "cell_type": "code",
   "execution_count": 113,
   "metadata": {},
   "outputs": [],
   "source": [
    "def make_sparse_matrix(df, indexed_words, labels):\n",
    "    \"\"\"\n",
    "    Returns sparse matrix as dataframe\n",
    "\n",
    "    df: A dataframe with words in the columns with a document_id as an index (X_train or X_test)\n",
    "    indexed_words: index of words ordered by word id\n",
    "    labels: category as a series (y_train or y_test)\n",
    "    \"\"\"\n",
    "    nr_rows = df.shape[0]\n",
    "    nr_cols = df.shape[1]\n",
    "\n",
    "    word_set = set(indexed_words)\n",
    "    dict_list = []\n",
    "\n",
    "    for i in range(nr_rows):\n",
    "        for j in range(nr_cols):\n",
    "            word = df.iat[i,j]\n",
    "            if word in word_set:\n",
    "                doc_id = df.index[i]\n",
    "                word_id = indexed_words.get_loc(word)\n",
    "                category = labels.at[doc_id]\n",
    "\n",
    "                item = {'LABEL': category, 'DOC_ID': doc_id, 'OCCURENCE': 1, 'WORD_ID': word_id}\n",
    "\n",
    "                dict_list.append(item)\n",
    "\n",
    "    return pd.DataFrame(dict_list)"
   ]
  },
  {
   "cell_type": "code",
   "execution_count": 114,
   "metadata": {},
   "outputs": [],
   "source": [
    "sparse_train_df = make_sparse_matrix(X_train, word_index, y_train)"
   ]
  },
  {
   "cell_type": "code",
   "execution_count": 115,
   "metadata": {},
   "outputs": [
    {
     "data": {
      "text/html": [
       "<div>\n",
       "<style scoped>\n",
       "    .dataframe tbody tr th:only-of-type {\n",
       "        vertical-align: middle;\n",
       "    }\n",
       "\n",
       "    .dataframe tbody tr th {\n",
       "        vertical-align: top;\n",
       "    }\n",
       "\n",
       "    .dataframe thead th {\n",
       "        text-align: right;\n",
       "    }\n",
       "</style>\n",
       "<table border=\"1\" class=\"dataframe\">\n",
       "  <thead>\n",
       "    <tr style=\"text-align: right;\">\n",
       "      <th></th>\n",
       "      <th>LABEL</th>\n",
       "      <th>DOC_ID</th>\n",
       "      <th>OCCURENCE</th>\n",
       "      <th>WORD_ID</th>\n",
       "    </tr>\n",
       "  </thead>\n",
       "  <tbody>\n",
       "    <tr>\n",
       "      <th>0</th>\n",
       "      <td>0</td>\n",
       "      <td>4844</td>\n",
       "      <td>1</td>\n",
       "      <td>393</td>\n",
       "    </tr>\n",
       "    <tr>\n",
       "      <th>1</th>\n",
       "      <td>0</td>\n",
       "      <td>4844</td>\n",
       "      <td>1</td>\n",
       "      <td>492</td>\n",
       "    </tr>\n",
       "    <tr>\n",
       "      <th>2</th>\n",
       "      <td>0</td>\n",
       "      <td>4844</td>\n",
       "      <td>1</td>\n",
       "      <td>2371</td>\n",
       "    </tr>\n",
       "    <tr>\n",
       "      <th>3</th>\n",
       "      <td>0</td>\n",
       "      <td>4844</td>\n",
       "      <td>1</td>\n",
       "      <td>497</td>\n",
       "    </tr>\n",
       "    <tr>\n",
       "      <th>4</th>\n",
       "      <td>0</td>\n",
       "      <td>4844</td>\n",
       "      <td>1</td>\n",
       "      <td>37</td>\n",
       "    </tr>\n",
       "  </tbody>\n",
       "</table>\n",
       "</div>"
      ],
      "text/plain": [
       "   LABEL  DOC_ID  OCCURENCE  WORD_ID\n",
       "0      0    4844          1      393\n",
       "1      0    4844          1      492\n",
       "2      0    4844          1     2371\n",
       "3      0    4844          1      497\n",
       "4      0    4844          1       37"
      ]
     },
     "execution_count": 115,
     "metadata": {},
     "output_type": "execute_result"
    }
   ],
   "source": [
    "sparse_train_df.head()"
   ]
  },
  {
   "cell_type": "code",
   "execution_count": 116,
   "metadata": {},
   "outputs": [
    {
     "data": {
      "text/plain": [
       "(444950, 4)"
      ]
     },
     "execution_count": 116,
     "metadata": {},
     "output_type": "execute_result"
    }
   ],
   "source": [
    "sparse_train_df.shape"
   ]
  },
  {
   "cell_type": "code",
   "execution_count": 121,
   "metadata": {},
   "outputs": [
    {
     "data": {
      "text/html": [
       "<div>\n",
       "<style scoped>\n",
       "    .dataframe tbody tr th:only-of-type {\n",
       "        vertical-align: middle;\n",
       "    }\n",
       "\n",
       "    .dataframe tbody tr th {\n",
       "        vertical-align: top;\n",
       "    }\n",
       "\n",
       "    .dataframe thead th {\n",
       "        text-align: right;\n",
       "    }\n",
       "</style>\n",
       "<table border=\"1\" class=\"dataframe\">\n",
       "  <thead>\n",
       "    <tr style=\"text-align: right;\">\n",
       "      <th></th>\n",
       "      <th></th>\n",
       "      <th></th>\n",
       "      <th>OCCURENCE</th>\n",
       "    </tr>\n",
       "    <tr>\n",
       "      <th>DOC_ID</th>\n",
       "      <th>WORD_ID</th>\n",
       "      <th>LABEL</th>\n",
       "      <th></th>\n",
       "    </tr>\n",
       "  </thead>\n",
       "  <tbody>\n",
       "    <tr>\n",
       "      <th rowspan=\"5\" valign=\"top\">0</th>\n",
       "      <th>0</th>\n",
       "      <th>1</th>\n",
       "      <td>2</td>\n",
       "    </tr>\n",
       "    <tr>\n",
       "      <th>7</th>\n",
       "      <th>1</th>\n",
       "      <td>1</td>\n",
       "    </tr>\n",
       "    <tr>\n",
       "      <th>16</th>\n",
       "      <th>1</th>\n",
       "      <td>1</td>\n",
       "    </tr>\n",
       "    <tr>\n",
       "      <th>18</th>\n",
       "      <th>1</th>\n",
       "      <td>1</td>\n",
       "    </tr>\n",
       "    <tr>\n",
       "      <th>24</th>\n",
       "      <th>1</th>\n",
       "      <td>1</td>\n",
       "    </tr>\n",
       "  </tbody>\n",
       "</table>\n",
       "</div>"
      ],
      "text/plain": [
       "                      OCCURENCE\n",
       "DOC_ID WORD_ID LABEL           \n",
       "0      0       1              2\n",
       "       7       1              1\n",
       "       16      1              1\n",
       "       18      1              1\n",
       "       24      1              1"
      ]
     },
     "execution_count": 121,
     "metadata": {},
     "output_type": "execute_result"
    }
   ],
   "source": [
    "train_grouped = sparse_train_df.groupby(['DOC_ID','WORD_ID','LABEL']).sum()\n",
    "train_grouped.head()"
   ]
  },
  {
   "cell_type": "code",
   "execution_count": 118,
   "metadata": {},
   "outputs": [
    {
     "data": {
      "text/plain": [
       "'http'"
      ]
     },
     "execution_count": 118,
     "metadata": {},
     "output_type": "execute_result"
    }
   ],
   "source": [
    "vocab.at[0,'VOCAB_WORD']"
   ]
  },
  {
   "cell_type": "code",
   "execution_count": 122,
   "metadata": {},
   "outputs": [
    {
     "data": {
      "text/html": [
       "<div>\n",
       "<style scoped>\n",
       "    .dataframe tbody tr th:only-of-type {\n",
       "        vertical-align: middle;\n",
       "    }\n",
       "\n",
       "    .dataframe tbody tr th {\n",
       "        vertical-align: top;\n",
       "    }\n",
       "\n",
       "    .dataframe thead th {\n",
       "        text-align: right;\n",
       "    }\n",
       "</style>\n",
       "<table border=\"1\" class=\"dataframe\">\n",
       "  <thead>\n",
       "    <tr style=\"text-align: right;\">\n",
       "      <th></th>\n",
       "      <th>DOC_ID</th>\n",
       "      <th>WORD_ID</th>\n",
       "      <th>LABEL</th>\n",
       "      <th>OCCURENCE</th>\n",
       "    </tr>\n",
       "  </thead>\n",
       "  <tbody>\n",
       "    <tr>\n",
       "      <th>0</th>\n",
       "      <td>0</td>\n",
       "      <td>0</td>\n",
       "      <td>1</td>\n",
       "      <td>2</td>\n",
       "    </tr>\n",
       "    <tr>\n",
       "      <th>1</th>\n",
       "      <td>0</td>\n",
       "      <td>7</td>\n",
       "      <td>1</td>\n",
       "      <td>1</td>\n",
       "    </tr>\n",
       "    <tr>\n",
       "      <th>2</th>\n",
       "      <td>0</td>\n",
       "      <td>16</td>\n",
       "      <td>1</td>\n",
       "      <td>1</td>\n",
       "    </tr>\n",
       "    <tr>\n",
       "      <th>3</th>\n",
       "      <td>0</td>\n",
       "      <td>18</td>\n",
       "      <td>1</td>\n",
       "      <td>1</td>\n",
       "    </tr>\n",
       "    <tr>\n",
       "      <th>4</th>\n",
       "      <td>0</td>\n",
       "      <td>24</td>\n",
       "      <td>1</td>\n",
       "      <td>1</td>\n",
       "    </tr>\n",
       "  </tbody>\n",
       "</table>\n",
       "</div>"
      ],
      "text/plain": [
       "   DOC_ID  WORD_ID  LABEL  OCCURENCE\n",
       "0       0        0      1          2\n",
       "1       0        7      1          1\n",
       "2       0       16      1          1\n",
       "3       0       18      1          1\n",
       "4       0       24      1          1"
      ]
     },
     "execution_count": 122,
     "metadata": {},
     "output_type": "execute_result"
    }
   ],
   "source": [
    "train_grouped = train_grouped.reset_index()\n",
    "train_grouped.head()"
   ]
  },
  {
   "cell_type": "code",
   "execution_count": 124,
   "metadata": {},
   "outputs": [],
   "source": [
    "np.savetxt(train_data_file, train_grouped, fmt= '%d')"
   ]
  },
  {
   "cell_type": "code",
   "execution_count": 126,
   "metadata": {},
   "outputs": [],
   "source": [
    "sparse_test_df = make_sparse_matrix(X_test, word_index, y_test)"
   ]
  },
  {
   "cell_type": "code",
   "execution_count": 127,
   "metadata": {},
   "outputs": [
    {
     "data": {
      "text/html": [
       "<div>\n",
       "<style scoped>\n",
       "    .dataframe tbody tr th:only-of-type {\n",
       "        vertical-align: middle;\n",
       "    }\n",
       "\n",
       "    .dataframe tbody tr th {\n",
       "        vertical-align: top;\n",
       "    }\n",
       "\n",
       "    .dataframe thead th {\n",
       "        text-align: right;\n",
       "    }\n",
       "</style>\n",
       "<table border=\"1\" class=\"dataframe\">\n",
       "  <thead>\n",
       "    <tr style=\"text-align: right;\">\n",
       "      <th></th>\n",
       "      <th>DOC_ID</th>\n",
       "      <th>WORD_ID</th>\n",
       "      <th>LABEL</th>\n",
       "      <th>OCCURENCE</th>\n",
       "    </tr>\n",
       "  </thead>\n",
       "  <tbody>\n",
       "    <tr>\n",
       "      <th>0</th>\n",
       "      <td>8</td>\n",
       "      <td>7</td>\n",
       "      <td>1</td>\n",
       "      <td>1</td>\n",
       "    </tr>\n",
       "    <tr>\n",
       "      <th>1</th>\n",
       "      <td>8</td>\n",
       "      <td>8</td>\n",
       "      <td>1</td>\n",
       "      <td>1</td>\n",
       "    </tr>\n",
       "    <tr>\n",
       "      <th>2</th>\n",
       "      <td>8</td>\n",
       "      <td>12</td>\n",
       "      <td>1</td>\n",
       "      <td>1</td>\n",
       "    </tr>\n",
       "    <tr>\n",
       "      <th>3</th>\n",
       "      <td>8</td>\n",
       "      <td>21</td>\n",
       "      <td>1</td>\n",
       "      <td>2</td>\n",
       "    </tr>\n",
       "    <tr>\n",
       "      <th>4</th>\n",
       "      <td>8</td>\n",
       "      <td>26</td>\n",
       "      <td>1</td>\n",
       "      <td>1</td>\n",
       "    </tr>\n",
       "  </tbody>\n",
       "</table>\n",
       "</div>"
      ],
      "text/plain": [
       "   DOC_ID  WORD_ID  LABEL  OCCURENCE\n",
       "0       8        7      1          1\n",
       "1       8        8      1          1\n",
       "2       8       12      1          1\n",
       "3       8       21      1          2\n",
       "4       8       26      1          1"
      ]
     },
     "execution_count": 127,
     "metadata": {},
     "output_type": "execute_result"
    }
   ],
   "source": [
    "test_grouped = sparse_test_df.groupby(['DOC_ID','WORD_ID','LABEL']).sum().reset_index()\n",
    "test_grouped.head()"
   ]
  },
  {
   "cell_type": "code",
   "execution_count": 128,
   "metadata": {},
   "outputs": [
    {
     "data": {
      "text/plain": [
       "(110579, 4)"
      ]
     },
     "execution_count": 128,
     "metadata": {},
     "output_type": "execute_result"
    }
   ],
   "source": [
    "test_grouped.shape"
   ]
  },
  {
   "cell_type": "code",
   "execution_count": 129,
   "metadata": {},
   "outputs": [],
   "source": [
    "np.savetxt(test_data_file, test_grouped, fmt= '%d')"
   ]
  },
  {
   "cell_type": "code",
   "execution_count": null,
   "metadata": {},
   "outputs": [],
   "source": []
  }
 ],
 "metadata": {
  "kernelspec": {
   "display_name": ".venv",
   "language": "python",
   "name": "python3"
  },
  "language_info": {
   "codemirror_mode": {
    "name": "ipython",
    "version": 3
   },
   "file_extension": ".py",
   "mimetype": "text/x-python",
   "name": "python",
   "nbconvert_exporter": "python",
   "pygments_lexer": "ipython3",
   "version": "3.11.3"
  }
 },
 "nbformat": 4,
 "nbformat_minor": 2
}
